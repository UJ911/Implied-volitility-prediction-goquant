{
 "cells": [
  {
   "cell_type": "code",
   "execution_count": 1,
   "id": "efca44ee",
   "metadata": {},
   "outputs": [],
   "source": [
    "import pandas as pd\n",
    "import xgboost as xgb\n",
    "from sklearn.model_selection import train_test_split\n",
    "from scipy.stats import pearsonr\n",
    "import numpy as np\n",
    "\n"
   ]
  },
  {
   "cell_type": "code",
   "execution_count": 2,
   "id": "3070804c",
   "metadata": {},
   "outputs": [],
   "source": [
    "dfETH = pd.read_csv('gq-implied-volatility-forecasting/train/ETH.csv')\n",
    "dfBTC = pd.read_csv('gq-implied-volatility-forecasting/train/BTC.csv')\n"
   ]
  },
  {
   "cell_type": "code",
   "execution_count": 17,
   "id": "456f2d58",
   "metadata": {},
   "outputs": [],
   "source": [
    "\n",
    "def mad_based_outlier_flags(df, threshold=100):\n",
    "    \"\"\"\n",
    "    Flags rows in a DataFrame as outliers if ANY value in the row\n",
    "    is an outlier based on Median Absolute Deviation (MAD).\n",
    "    \n",
    "    Parameters:\n",
    "        df (pd.DataFrame): Input DataFrame (numeric only or mixed).\n",
    "        threshold (float): Z-score cutoff for outliers (default 10).\n",
    "        \n",
    "    Returns:\n",
    "        pd.DataFrame: Original DataFrame with an added column 'is_outlier'.\n",
    "    \"\"\"\n",
    "    # Ensure numeric data only\n",
    "    numeric_df = df[['ask_price1_ETH', 'bid_price1_ETH','ask_price2_ETH','ask_price2_ETH', 'bid_price3_ETH','ask_price3_ETH', 'bid_price4_ETH','ask_price4_ETH', 'bid_price5_ETH','ask_price5_ETH']]  # Adjust columns as needed\n",
    "\n",
    "    # Compute row-wise medians\n",
    "    row_median = numeric_df.median(axis=1)\n",
    "    \n",
    "    # Compute MAD for each row\n",
    "    mad = (numeric_df.sub(row_median, axis=0).abs()).median(axis=1)\n",
    "    \n",
    "    # Compute modified z-scores for each element\n",
    "    modified_z = 0.6745 * (numeric_df.sub(row_median, axis=0).abs()).div(mad, axis=0)\n",
    "    \n",
    "    # Flag a row if ANY value in that row exceeds threshold\n",
    "    row_flags = (modified_z > threshold).any(axis=1)\n",
    "    print(row_flags.value_counts())\n",
    "    # Attach result\n",
    "    df = df.copy()\n",
    "    df[\"is_outlier\"] = row_flags\n",
    "    # Set all columns except timestamp to NaN where is_outlier is True\n",
    "    return df\n"
   ]
  },
  {
   "cell_type": "code",
   "execution_count": 4,
   "id": "6218b865",
   "metadata": {},
   "outputs": [
    {
     "name": "stdout",
     "output_type": "stream",
     "text": [
      "False    631291\n",
      "True          1\n",
      "Name: count, dtype: int64\n"
     ]
    }
   ],
   "source": [
    "\n",
    "\n",
    "#dfETH = pd.read_csv(\"gq-implied-volatility-forecasting/train/ETH.csv\")\n",
    "dfETH['timestamp'] = pd.to_datetime(dfETH['timestamp'])\n",
    "dfETH[\"label\"] = dfETH[\"label\"].replace(0.0, np.nan)\n",
    "\n",
    "df_checked = mad_based_outlier_flags(dfETH.copy(), threshold=100)\n",
    "\n",
    "# Identify which columns to modify (all except timestamp and is_outlier)\n",
    "cols_to_modify = df_checked.columns.difference(['timestamp', 'is_outlier'])\n",
    "\n",
    "# Set outlier rows to NaN\n",
    "df_checked.loc[df_checked[\"is_outlier\"], cols_to_modify] = np.nan\n",
    "\n",
    "# Interpolate missing values\n",
    "df_checked[cols_to_modify] = df_checked[cols_to_modify].interpolate(\n",
    "    method=\"linear\",\n",
    "    limit=20,\n",
    "    limit_direction=\"both\"\n",
    ")\n",
    "\n",
    "# Finally drop the helper column\n",
    "df_checked = df_checked.drop(columns=['is_outlier'])\n",
    "\n",
    "# Drop rows still containing NaN (if interpolation failed)\n",
    "df_checked = df_checked.dropna()\n"
   ]
  },
  {
   "cell_type": "code",
   "execution_count": 5,
   "id": "69f3b38a",
   "metadata": {},
   "outputs": [],
   "source": [
    "cleaned_ETH = df_checked.to_csv('ETH_cleaned.csv')"
   ]
  },
  {
   "cell_type": "code",
   "execution_count": 7,
   "id": "d2b96f1d",
   "metadata": {},
   "outputs": [
    {
     "name": "stdout",
     "output_type": "stream",
     "text": [
      "False    631292\n",
      "Name: count, dtype: int64\n"
     ]
    }
   ],
   "source": [
    "\n",
    "\n",
    "#dfETH = pd.read_csv(\"gq-implied-volatility-forecasting/train/ETH.csv\")\n",
    "dfBTC['timestamp'] = pd.to_datetime(dfBTC['timestamp'])\n",
    "#dfBTC[\"label\"] = dfBTC[\"label\"].replace(0.0, np.nan)\n",
    "\n",
    "df_checked = mad_based_outlier_flags(dfBTC.copy(), threshold=100)\n",
    "\n",
    "# Identify which columns to modify (all except timestamp and is_outlier)\n",
    "#cols_to_modify = df_checked.columns.difference(['timestamp', 'is_outlier'])\n",
    "cols_to_modify = df_checked.columns.difference(['timestamp', 'is_outlier'])\n",
    "\n",
    "# Set outlier rows to NaN\n",
    "df_checked.loc[df_checked[\"is_outlier\"], cols_to_modify] = np.nan\n",
    "\n",
    "# Interpolate missing values\n",
    "df_checked[cols_to_modify] = df_checked[cols_to_modify].interpolate(\n",
    "    method=\"linear\",\n",
    "    limit=20,\n",
    "    limit_direction=\"both\"\n",
    ")\n",
    "\n",
    "# Finally drop the helper column\n",
    "df_checked = df_checked.drop(columns=['is_outlier'])\n",
    "\n",
    "# Drop rows still containing NaN (if interpolation failed)\n",
    "df_checked = df_checked.dropna()\n"
   ]
  },
  {
   "cell_type": "code",
   "execution_count": 8,
   "id": "290c80d2",
   "metadata": {},
   "outputs": [],
   "source": [
    "df_checked.to_csv('BTC_cleaned.csv')"
   ]
  },
  {
   "cell_type": "code",
   "execution_count": 10,
   "id": "6e4a58f2",
   "metadata": {},
   "outputs": [
    {
     "name": "stderr",
     "output_type": "stream",
     "text": [
      "/var/folders/9g/z7mw9w913l31htrfzlb6lz6w0000gn/T/ipykernel_58848/98970438.py:2: UserWarning: Parsing dates in %d-%m-%Y %H:%M format when dayfirst=False (the default) was specified. Pass `dayfirst=True` or specify a format to silence this warning.\n",
      "  btc_cleaned['timestamp'] = pd.to_datetime(btc_cleaned['timestamp'])\n"
     ]
    }
   ],
   "source": [
    "btc_cleaned = pd.read_csv('gq-implied-volatility-forecasting/train/BTC.csv')\n",
    "btc_cleaned['timestamp'] = pd.to_datetime(btc_cleaned['timestamp'])\n",
    "btc_cleaned['timestamp'] = btc_cleaned['timestamp'].dt.strftime('%Y-%m-%d %H:%M:%S')\n",
    "btc_cleaned.to_csv('BTC_cleaned_with_seconds.csv', index=False)"
   ]
  },
  {
   "cell_type": "code",
   "execution_count": 13,
   "id": "40ba6f07",
   "metadata": {},
   "outputs": [],
   "source": [
    "import pandas as pd\n",
    "\n",
    "df1 = pd.read_csv(\"gq-implied-volatility-forecasting/train/ETH.csv\")\n",
    "df2 = pd.read_csv(\"gq-implied-volatility-forecasting/train/BTC.csv\").drop(columns=[\"timestamp\"])\n",
    "\n",
    "merged = pd.concat([df1.reset_index(drop=True), df2.reset_index(drop=True)], axis=1)\n",
    "merged.to_csv(\"merged.csv\", index=False)\n"
   ]
  },
  {
   "cell_type": "code",
   "execution_count": 16,
   "id": "3d31f206",
   "metadata": {},
   "outputs": [],
   "source": [
    "import pandas as pd\n",
    "\n",
    "df1 = pd.read_csv(\"gq-implied-volatility-forecasting/train/ETH.csv\")\n",
    "df2 = pd.read_csv(\"gq-implied-volatility-forecasting/train/BTC.csv\").drop(columns=[\"timestamp\"])\n",
    "\n",
    "# Add suffixes to column names\n",
    "df1 = df1.add_suffix(\"_ETH\")\n",
    "df2 = df2.add_suffix(\"_BTC\")\n",
    "\n",
    "# Reset index and merge side by side\n",
    "merged = pd.concat([df1.reset_index(drop=True), df2.reset_index(drop=True)], axis=1)\n",
    "\n",
    "merged.to_csv(\"merged.csv\", index=False)\n"
   ]
  },
  {
   "cell_type": "code",
   "execution_count": 15,
   "id": "4cb2951e",
   "metadata": {},
   "outputs": [
    {
     "data": {
      "text/plain": [
       "(631292, 44)"
      ]
     },
     "execution_count": 15,
     "metadata": {},
     "output_type": "execute_result"
    }
   ],
   "source": [
    "merged.shape"
   ]
  },
  {
   "cell_type": "code",
   "execution_count": 18,
   "id": "f6b8defd",
   "metadata": {},
   "outputs": [
    {
     "name": "stdout",
     "output_type": "stream",
     "text": [
      "False    631291\n",
      "True          1\n",
      "Name: count, dtype: int64\n"
     ]
    }
   ],
   "source": [
    "#dfETH = pd.read_csv(\"gq-implied-volatility-forecasting/train/ETH.csv\")\n",
    "merged['timestamp_ETH'] = pd.to_datetime(merged['timestamp_ETH'])\n",
    "merged[\"label_ETH\"] = merged[\"label_ETH\"].replace(0.0, np.nan)\n",
    "\n",
    "df_checked = mad_based_outlier_flags(merged.copy(), threshold=100)\n",
    "\n",
    "# Identify which columns to modify (all except timestamp and is_outlier)\n",
    "cols_to_modify = df_checked.columns.difference(['timestamp_ETH', 'is_outlier'])\n",
    "\n",
    "# Set outlier rows to NaN\n",
    "df_checked.loc[df_checked[\"is_outlier\"], cols_to_modify] = np.nan\n",
    "\n",
    "# Interpolate missing values\n",
    "df_checked[cols_to_modify] = df_checked[cols_to_modify].interpolate(\n",
    "    method=\"linear\",\n",
    "    limit=20,\n",
    "    limit_direction=\"both\"\n",
    ")\n",
    "\n",
    "# Finally drop the helper column\n",
    "df_checked = df_checked.drop(columns=['is_outlier'])\n",
    "\n",
    "# Drop rows still containing NaN (if interpolation failed)\n",
    "#df_checked = df_checked.dropna()"
   ]
  },
  {
   "cell_type": "code",
   "execution_count": 30,
   "id": "c62775b0",
   "metadata": {},
   "outputs": [],
   "source": [
    "defval.to_csv(\"merged_cleaned1.csv\", index=False)"
   ]
  },
  {
   "cell_type": "code",
   "execution_count": 21,
   "id": "61b16c68",
   "metadata": {},
   "outputs": [],
   "source": [
    "df_checked = df_checked.dropna(subset=['label_ETH'])"
   ]
  },
  {
   "cell_type": "code",
   "execution_count": 50,
   "id": "6a3c5f3d",
   "metadata": {},
   "outputs": [],
   "source": [
    "import pandas as pd\n",
    "import numpy as np\n",
    "\n",
    "def generate_features(df: pd.DataFrame) -> pd.DataFrame:\n",
    "    out = df.copy()\n",
    "\n",
    "    # ========= ETH Features =========\n",
    "    out[\"spread_eth\"] = out[\"ask_price1_ETH\"] - out[\"bid_price1_ETH\"]\n",
    "\n",
    "    for d in range(1, 6):\n",
    "        out[f\"imb_eth_{d}\"] = (\n",
    "            (out[f\"bid_volume{d}_ETH\"] - out[f\"ask_volume{d}_ETH\"]) /\n",
    "            (out[f\"bid_volume{d}_ETH\"] + out[f\"ask_volume{d}_ETH\"] + 1e-9)\n",
    "        )\n",
    "\n",
    "    out[\"cum_bid_vol_eth\"] = sum(out[f\"bid_volume{d}_ETH\"] for d in range(1, 6))\n",
    "    out[\"cum_ask_vol_eth\"] = sum(out[f\"ask_volume{d}_ETH\"] for d in range(1, 6))\n",
    "    out[\"cum_imb_eth\"] = (\n",
    "        (out[\"cum_bid_vol_eth\"] - out[\"cum_ask_vol_eth\"]) /\n",
    "        (out[\"cum_bid_vol_eth\"] + out[\"cum_ask_vol_eth\"] + 1e-9)\n",
    "    )\n",
    "\n",
    "    out[\"vwap_bid_eth\"] = (\n",
    "        sum(out[f\"bid_price{d}_ETH\"] * out[f\"bid_volume{d}_ETH\"] for d in range(1, 6))\n",
    "        / (out[\"cum_bid_vol_eth\"] + 1e-9)\n",
    "    )\n",
    "    out[\"vwap_ask_eth\"] = (\n",
    "        sum(out[f\"ask_price{d}_ETH\"] * out[f\"ask_volume{d}_ETH\"] for d in range(1, 6))\n",
    "        / (out[\"cum_ask_vol_eth\"] + 1e-9)\n",
    "    )\n",
    "\n",
    "    out[\"eth_ret\"] = out[\"mid_price_ETH\"].pct_change()\n",
    "    for w in [5, 10, 30]:\n",
    "        out[f\"eth_vol_{w}\"] = out[\"eth_ret\"].rolling(w).std()\n",
    "\n",
    "    # Rolling vol (consecutive timestamps only)\n",
    "    out[\"time_diff\"] = out[\"timestamp_ETH\"].diff().dt.total_seconds()\n",
    "    consecutive_groups = (out[\"time_diff\"] != 1).cumsum()\n",
    "\n",
    "    def rolling_std_consecutive(group):\n",
    "        if len(group) >= 10:\n",
    "            return group[\"mid_price_ETH\"].rolling(10, min_periods=1).std()\n",
    "        else:\n",
    "            return group[\"mid_price_ETH\"].rolling(len(group), min_periods=1).std()\n",
    "\n",
    "    out[\"rolling_vol_mid_eth\"] = (\n",
    "        out.groupby(consecutive_groups).apply(rolling_std_consecutive).reset_index(level=0, drop=True)\n",
    "    )\n",
    "\n",
    "    # ========= BTC Features =========\n",
    "    out[\"spread_btc\"] = out[\"ask_price1_BTC\"] - out[\"bid_price1_BTC\"]\n",
    "\n",
    "    for d in range(1, 6):\n",
    "        out[f\"imb_btc_{d}\"] = (\n",
    "            (out[f\"bid_volume{d}_BTC\"] - out[f\"ask_volume{d}_BTC\"]) /\n",
    "            (out[f\"bid_volume{d}_BTC\"] + out[f\"ask_volume{d}_BTC\"] + 1e-9)\n",
    "        )\n",
    "\n",
    "    out[\"cum_bid_vol_btc\"] = sum(out[f\"bid_volume{d}_BTC\"] for d in range(1, 6))\n",
    "    out[\"cum_ask_vol_btc\"] = sum(out[f\"ask_volume{d}_BTC\"] for d in range(1, 6))\n",
    "    out[\"cum_imb_btc\"] = (\n",
    "        (out[\"cum_bid_vol_btc\"] - out[\"cum_ask_vol_btc\"]) /\n",
    "        (out[\"cum_bid_vol_btc\"] + out[\"cum_ask_vol_btc\"] + 1e-9)\n",
    "    )\n",
    "\n",
    "    out[\"vwap_bid_btc\"] = (\n",
    "        sum(out[f\"bid_price{d}_BTC\"] * out[f\"bid_volume{d}_BTC\"] for d in range(1, 6))\n",
    "        / (out[\"cum_bid_vol_btc\"] + 1e-9)\n",
    "    )\n",
    "    out[\"vwap_ask_btc\"] = (\n",
    "        sum(out[f\"ask_price{d}_BTC\"] * out[f\"ask_volume{d}_BTC\"] for d in range(1, 6))\n",
    "        / (out[\"cum_ask_vol_btc\"] + 1e-9)\n",
    "    )\n",
    "\n",
    "    out[\"btc_ret\"] = out[\"mid_price_BTC\"].pct_change()\n",
    "    for w in [5, 10, 30]:\n",
    "        out[f\"btc_vol_{w}\"] = out[\"btc_ret\"].rolling(w).std()\n",
    "\n",
    "    # Rolling vol (consecutive timestamps only)\n",
    "    def rolling_std_consecutive_btc(group):\n",
    "        if len(group) >= 10:\n",
    "            return group[\"mid_price_BTC\"].rolling(10, min_periods=1).std()\n",
    "        else:\n",
    "            return group[\"mid_price_BTC\"].rolling(len(group), min_periods=1).std()\n",
    "\n",
    "    out[\"rolling_vol_mid_btc\"] = (\n",
    "        out.groupby(consecutive_groups).apply(rolling_std_consecutive_btc).reset_index(level=0, drop=True)\n",
    "    )\n",
    "\n",
    "    # ========= Cross-Asset Features =========\n",
    "    out[\"eth_btc_spread\"] = out[\"mid_price_ETH\"] - out[\"mid_price_BTC\"]\n",
    "    out[\"eth_btc_ratio\"] = out[\"mid_price_ETH\"] / (out[\"mid_price_BTC\"] + 1e-9)\n",
    "\n",
    "    for w in [5, 10, 30]:\n",
    "        out[f\"eth_btc_corr_{w}\"] = out[\"eth_ret\"].rolling(w).corr(out[\"btc_ret\"])\n",
    "\n",
    "    for lag in [1, 2, 5]:\n",
    "        out[f\"btc_ret_lag{lag}\"] = out[\"btc_ret\"].shift(lag)\n",
    "\n",
    "    out[\"btc_liq_ratio\"] = (\n",
    "        (out[\"cum_bid_vol_btc\"] + out[\"cum_ask_vol_btc\"]) /\n",
    "        (out[\"cum_bid_vol_eth\"] + out[\"cum_ask_vol_eth\"] + 1e-9)\n",
    "    )\n",
    "    out[\"rel_imb\"] = out[\"cum_imb_eth\"] - out[\"cum_imb_btc\"]\n",
    "\n",
    "    for w in [30, 60, 120]:\n",
    "        roll_mean = out[\"eth_btc_spread\"].rolling(w).mean()\n",
    "        roll_std = out[\"eth_btc_spread\"].rolling(w).std()\n",
    "        out[f\"zscore_spread_{w}\"] = (out[\"eth_btc_spread\"] - roll_mean) / (roll_std + 1e-9)\n",
    "\n",
    "    out[\"btc_top_imb\"] = (\n",
    "        (out[\"bid_volume1_BTC\"] - out[\"ask_volume1_BTC\"]) /\n",
    "        (out[\"bid_volume1_BTC\"] + out[\"ask_volume1_BTC\"] + 1e-9)\n",
    "    )\n",
    "    out[\"btc_imb_lead_eth\"] = out[\"btc_top_imb\"].shift(1) * out[\"eth_ret\"]\n",
    "\n",
    "    return out\n"
   ]
  },
  {
   "cell_type": "code",
   "execution_count": 34,
   "id": "72200783",
   "metadata": {},
   "outputs": [],
   "source": [
    "vals = pd.read_csv(\"merged_cleaned1.csv\")\n",
    "vals.dtypes\n",
    "vals['timestamp_ETH'] = pd.to_datetime(vals['timestamp_ETH'])"
   ]
  },
  {
   "cell_type": "code",
   "execution_count": 35,
   "id": "69dedc67",
   "metadata": {},
   "outputs": [],
   "source": [
    "vals.to_csv(\"merged_cleaned1.csv\", index=False)"
   ]
  },
  {
   "cell_type": "code",
   "execution_count": 36,
   "id": "c0b0357e",
   "metadata": {},
   "outputs": [
    {
     "data": {
      "application/vnd.microsoft.datawrangler.viewer.v0+json": {
       "columns": [
        {
         "name": "index",
         "rawType": "object",
         "type": "string"
        },
        {
         "name": "0",
         "rawType": "object",
         "type": "unknown"
        }
       ],
       "ref": "93a6e38e-1ba1-4e5e-8cc0-d8eca331a873",
       "rows": [
        [
         "timestamp_ETH",
         "object"
        ],
        [
         "mid_price_ETH",
         "float64"
        ],
        [
         "bid_price1_ETH",
         "float64"
        ],
        [
         "bid_volume1_ETH",
         "float64"
        ],
        [
         "bid_price2_ETH",
         "float64"
        ],
        [
         "bid_volume2_ETH",
         "float64"
        ],
        [
         "bid_price3_ETH",
         "float64"
        ],
        [
         "bid_volume3_ETH",
         "float64"
        ],
        [
         "bid_price4_ETH",
         "float64"
        ],
        [
         "bid_volume4_ETH",
         "float64"
        ],
        [
         "bid_price5_ETH",
         "float64"
        ],
        [
         "bid_volume5_ETH",
         "float64"
        ],
        [
         "ask_price1_ETH",
         "float64"
        ],
        [
         "ask_volume1_ETH",
         "float64"
        ],
        [
         "ask_price2_ETH",
         "float64"
        ],
        [
         "ask_volume2_ETH",
         "float64"
        ],
        [
         "ask_price3_ETH",
         "float64"
        ],
        [
         "ask_volume3_ETH",
         "float64"
        ],
        [
         "ask_price4_ETH",
         "float64"
        ],
        [
         "ask_volume4_ETH",
         "float64"
        ],
        [
         "ask_price5_ETH",
         "float64"
        ],
        [
         "ask_volume5_ETH",
         "float64"
        ],
        [
         "label_ETH",
         "float64"
        ],
        [
         "mid_price_BTC",
         "float64"
        ],
        [
         "bid_price1_BTC",
         "float64"
        ],
        [
         "bid_volume1_BTC",
         "float64"
        ],
        [
         "bid_price2_BTC",
         "float64"
        ],
        [
         "bid_volume2_BTC",
         "float64"
        ],
        [
         "bid_price3_BTC",
         "float64"
        ],
        [
         "bid_volume3_BTC",
         "float64"
        ],
        [
         "bid_price4_BTC",
         "float64"
        ],
        [
         "bid_volume4_BTC",
         "float64"
        ],
        [
         "bid_price5_BTC",
         "float64"
        ],
        [
         "bid_volume5_BTC",
         "float64"
        ],
        [
         "ask_price1_BTC",
         "float64"
        ],
        [
         "ask_volume1_BTC",
         "float64"
        ],
        [
         "ask_price2_BTC",
         "float64"
        ],
        [
         "ask_volume2_BTC",
         "float64"
        ],
        [
         "ask_price3_BTC",
         "float64"
        ],
        [
         "ask_volume3_BTC",
         "float64"
        ],
        [
         "ask_price4_BTC",
         "float64"
        ],
        [
         "ask_volume4_BTC",
         "float64"
        ],
        [
         "ask_price5_BTC",
         "float64"
        ],
        [
         "ask_volume5_BTC",
         "float64"
        ]
       ],
       "shape": {
        "columns": 1,
        "rows": 44
       }
      },
      "text/plain": [
       "timestamp_ETH       object\n",
       "mid_price_ETH      float64\n",
       "bid_price1_ETH     float64\n",
       "bid_volume1_ETH    float64\n",
       "bid_price2_ETH     float64\n",
       "bid_volume2_ETH    float64\n",
       "bid_price3_ETH     float64\n",
       "bid_volume3_ETH    float64\n",
       "bid_price4_ETH     float64\n",
       "bid_volume4_ETH    float64\n",
       "bid_price5_ETH     float64\n",
       "bid_volume5_ETH    float64\n",
       "ask_price1_ETH     float64\n",
       "ask_volume1_ETH    float64\n",
       "ask_price2_ETH     float64\n",
       "ask_volume2_ETH    float64\n",
       "ask_price3_ETH     float64\n",
       "ask_volume3_ETH    float64\n",
       "ask_price4_ETH     float64\n",
       "ask_volume4_ETH    float64\n",
       "ask_price5_ETH     float64\n",
       "ask_volume5_ETH    float64\n",
       "label_ETH          float64\n",
       "mid_price_BTC      float64\n",
       "bid_price1_BTC     float64\n",
       "bid_volume1_BTC    float64\n",
       "bid_price2_BTC     float64\n",
       "bid_volume2_BTC    float64\n",
       "bid_price3_BTC     float64\n",
       "bid_volume3_BTC    float64\n",
       "bid_price4_BTC     float64\n",
       "bid_volume4_BTC    float64\n",
       "bid_price5_BTC     float64\n",
       "bid_volume5_BTC    float64\n",
       "ask_price1_BTC     float64\n",
       "ask_volume1_BTC    float64\n",
       "ask_price2_BTC     float64\n",
       "ask_volume2_BTC    float64\n",
       "ask_price3_BTC     float64\n",
       "ask_volume3_BTC    float64\n",
       "ask_price4_BTC     float64\n",
       "ask_volume4_BTC    float64\n",
       "ask_price5_BTC     float64\n",
       "ask_volume5_BTC    float64\n",
       "dtype: object"
      ]
     },
     "execution_count": 36,
     "metadata": {},
     "output_type": "execute_result"
    }
   ],
   "source": [
    "vals2 = pd.read_csv(\"merged_cleaned1.csv\")\n",
    "vals2.dtypes"
   ]
  },
  {
   "cell_type": "code",
   "execution_count": 38,
   "id": "60eecfea",
   "metadata": {},
   "outputs": [],
   "source": [
    "import pandas as pd\n",
    "\n",
    "df = pd.read_csv(\"merged_cleaned1.csv\")\n",
    "df[\"timestamp_ETH\"] = pd.to_datetime(df[\"timestamp_ETH\"])\n",
    "df.to_csv(\"merged_cleaned1.csv\", index=False)"
   ]
  },
  {
   "cell_type": "code",
   "execution_count": 39,
   "id": "55b4caf1",
   "metadata": {},
   "outputs": [
    {
     "data": {
      "application/vnd.microsoft.datawrangler.viewer.v0+json": {
       "columns": [
        {
         "name": "index",
         "rawType": "object",
         "type": "string"
        },
        {
         "name": "0",
         "rawType": "object",
         "type": "unknown"
        }
       ],
       "ref": "1d6857b5-3c2e-40fd-83b6-6b0db4fe3019",
       "rows": [
        [
         "timestamp_ETH",
         "object"
        ],
        [
         "mid_price_ETH",
         "float64"
        ],
        [
         "bid_price1_ETH",
         "float64"
        ],
        [
         "bid_volume1_ETH",
         "float64"
        ],
        [
         "bid_price2_ETH",
         "float64"
        ],
        [
         "bid_volume2_ETH",
         "float64"
        ],
        [
         "bid_price3_ETH",
         "float64"
        ],
        [
         "bid_volume3_ETH",
         "float64"
        ],
        [
         "bid_price4_ETH",
         "float64"
        ],
        [
         "bid_volume4_ETH",
         "float64"
        ],
        [
         "bid_price5_ETH",
         "float64"
        ],
        [
         "bid_volume5_ETH",
         "float64"
        ],
        [
         "ask_price1_ETH",
         "float64"
        ],
        [
         "ask_volume1_ETH",
         "float64"
        ],
        [
         "ask_price2_ETH",
         "float64"
        ],
        [
         "ask_volume2_ETH",
         "float64"
        ],
        [
         "ask_price3_ETH",
         "float64"
        ],
        [
         "ask_volume3_ETH",
         "float64"
        ],
        [
         "ask_price4_ETH",
         "float64"
        ],
        [
         "ask_volume4_ETH",
         "float64"
        ],
        [
         "ask_price5_ETH",
         "float64"
        ],
        [
         "ask_volume5_ETH",
         "float64"
        ],
        [
         "label_ETH",
         "float64"
        ],
        [
         "mid_price_BTC",
         "float64"
        ],
        [
         "bid_price1_BTC",
         "float64"
        ],
        [
         "bid_volume1_BTC",
         "float64"
        ],
        [
         "bid_price2_BTC",
         "float64"
        ],
        [
         "bid_volume2_BTC",
         "float64"
        ],
        [
         "bid_price3_BTC",
         "float64"
        ],
        [
         "bid_volume3_BTC",
         "float64"
        ],
        [
         "bid_price4_BTC",
         "float64"
        ],
        [
         "bid_volume4_BTC",
         "float64"
        ],
        [
         "bid_price5_BTC",
         "float64"
        ],
        [
         "bid_volume5_BTC",
         "float64"
        ],
        [
         "ask_price1_BTC",
         "float64"
        ],
        [
         "ask_volume1_BTC",
         "float64"
        ],
        [
         "ask_price2_BTC",
         "float64"
        ],
        [
         "ask_volume2_BTC",
         "float64"
        ],
        [
         "ask_price3_BTC",
         "float64"
        ],
        [
         "ask_volume3_BTC",
         "float64"
        ],
        [
         "ask_price4_BTC",
         "float64"
        ],
        [
         "ask_volume4_BTC",
         "float64"
        ],
        [
         "ask_price5_BTC",
         "float64"
        ],
        [
         "ask_volume5_BTC",
         "float64"
        ]
       ],
       "shape": {
        "columns": 1,
        "rows": 44
       }
      },
      "text/plain": [
       "timestamp_ETH       object\n",
       "mid_price_ETH      float64\n",
       "bid_price1_ETH     float64\n",
       "bid_volume1_ETH    float64\n",
       "bid_price2_ETH     float64\n",
       "bid_volume2_ETH    float64\n",
       "bid_price3_ETH     float64\n",
       "bid_volume3_ETH    float64\n",
       "bid_price4_ETH     float64\n",
       "bid_volume4_ETH    float64\n",
       "bid_price5_ETH     float64\n",
       "bid_volume5_ETH    float64\n",
       "ask_price1_ETH     float64\n",
       "ask_volume1_ETH    float64\n",
       "ask_price2_ETH     float64\n",
       "ask_volume2_ETH    float64\n",
       "ask_price3_ETH     float64\n",
       "ask_volume3_ETH    float64\n",
       "ask_price4_ETH     float64\n",
       "ask_volume4_ETH    float64\n",
       "ask_price5_ETH     float64\n",
       "ask_volume5_ETH    float64\n",
       "label_ETH          float64\n",
       "mid_price_BTC      float64\n",
       "bid_price1_BTC     float64\n",
       "bid_volume1_BTC    float64\n",
       "bid_price2_BTC     float64\n",
       "bid_volume2_BTC    float64\n",
       "bid_price3_BTC     float64\n",
       "bid_volume3_BTC    float64\n",
       "bid_price4_BTC     float64\n",
       "bid_volume4_BTC    float64\n",
       "bid_price5_BTC     float64\n",
       "bid_volume5_BTC    float64\n",
       "ask_price1_BTC     float64\n",
       "ask_volume1_BTC    float64\n",
       "ask_price2_BTC     float64\n",
       "ask_volume2_BTC    float64\n",
       "ask_price3_BTC     float64\n",
       "ask_volume3_BTC    float64\n",
       "ask_price4_BTC     float64\n",
       "ask_volume4_BTC    float64\n",
       "ask_price5_BTC     float64\n",
       "ask_volume5_BTC    float64\n",
       "dtype: object"
      ]
     },
     "execution_count": 39,
     "metadata": {},
     "output_type": "execute_result"
    }
   ],
   "source": [
    "df = pd.read_csv(\"merged_cleaned1.csv\")\n",
    "df.dtypes"
   ]
  },
  {
   "cell_type": "code",
   "execution_count": 40,
   "id": "b31e5bdc",
   "metadata": {},
   "outputs": [
    {
     "name": "stderr",
     "output_type": "stream",
     "text": [
      "/var/folders/9g/z7mw9w913l31htrfzlb6lz6w0000gn/T/ipykernel_58848/1265453247.py:32: FutureWarning: The default fill_method='pad' in Series.pct_change is deprecated and will be removed in a future version. Either fill in any non-leading NA values prior to calling pct_change or specify 'fill_method=None' to not fill NA values.\n",
      "  out[\"eth_ret\"] = out[\"mid_price_ETH\"].pct_change()\n",
      "/var/folders/9g/z7mw9w913l31htrfzlb6lz6w0000gn/T/ipykernel_58848/1265453247.py:75: FutureWarning: The default fill_method='pad' in Series.pct_change is deprecated and will be removed in a future version. Either fill in any non-leading NA values prior to calling pct_change or specify 'fill_method=None' to not fill NA values.\n",
      "  out[\"btc_ret\"] = out[\"mid_price_BTC\"].pct_change()\n"
     ]
    }
   ],
   "source": [
    "df11 = pd.read_csv(\"merged_cleaned1.csv\")\n",
    "df11['timestamp_ETH'] = pd.to_datetime(df11['timestamp_ETH'])\n",
    "\n",
    "merged_feature_dataframe = generate_features(df11)"
   ]
  },
  {
   "cell_type": "code",
   "execution_count": 41,
   "id": "2bac633a",
   "metadata": {},
   "outputs": [],
   "source": [
    "merged_feature_dataframe.to_csv(\"all_features1.csv\", index=False)"
   ]
  },
  {
   "cell_type": "code",
   "execution_count": 28,
   "id": "c523226b",
   "metadata": {},
   "outputs": [],
   "source": [
    "defval = pd.read_csv(\"merged_cleaned1.csv\")\n",
    "defval.dtypes\n",
    "defval['timestamp_ETH'] = pd.to_datetime(defval['timestamp_ETH'])"
   ]
  },
  {
   "cell_type": "code",
   "execution_count": 29,
   "id": "1aa09c19",
   "metadata": {},
   "outputs": [
    {
     "data": {
      "application/vnd.microsoft.datawrangler.viewer.v0+json": {
       "columns": [
        {
         "name": "index",
         "rawType": "object",
         "type": "string"
        },
        {
         "name": "0",
         "rawType": "object",
         "type": "unknown"
        }
       ],
       "ref": "b80939eb-f804-4112-b232-82e3db6a0ef0",
       "rows": [
        [
         "timestamp_ETH",
         "datetime64[ns]"
        ],
        [
         "mid_price_ETH",
         "float64"
        ],
        [
         "bid_price1_ETH",
         "float64"
        ],
        [
         "bid_volume1_ETH",
         "float64"
        ],
        [
         "bid_price2_ETH",
         "float64"
        ],
        [
         "bid_volume2_ETH",
         "float64"
        ],
        [
         "bid_price3_ETH",
         "float64"
        ],
        [
         "bid_volume3_ETH",
         "float64"
        ],
        [
         "bid_price4_ETH",
         "float64"
        ],
        [
         "bid_volume4_ETH",
         "float64"
        ],
        [
         "bid_price5_ETH",
         "float64"
        ],
        [
         "bid_volume5_ETH",
         "float64"
        ],
        [
         "ask_price1_ETH",
         "float64"
        ],
        [
         "ask_volume1_ETH",
         "float64"
        ],
        [
         "ask_price2_ETH",
         "float64"
        ],
        [
         "ask_volume2_ETH",
         "float64"
        ],
        [
         "ask_price3_ETH",
         "float64"
        ],
        [
         "ask_volume3_ETH",
         "float64"
        ],
        [
         "ask_price4_ETH",
         "float64"
        ],
        [
         "ask_volume4_ETH",
         "float64"
        ],
        [
         "ask_price5_ETH",
         "float64"
        ],
        [
         "ask_volume5_ETH",
         "float64"
        ],
        [
         "label_ETH",
         "float64"
        ],
        [
         "mid_price_BTC",
         "float64"
        ],
        [
         "bid_price1_BTC",
         "float64"
        ],
        [
         "bid_volume1_BTC",
         "float64"
        ],
        [
         "bid_price2_BTC",
         "float64"
        ],
        [
         "bid_volume2_BTC",
         "float64"
        ],
        [
         "bid_price3_BTC",
         "float64"
        ],
        [
         "bid_volume3_BTC",
         "float64"
        ],
        [
         "bid_price4_BTC",
         "float64"
        ],
        [
         "bid_volume4_BTC",
         "float64"
        ],
        [
         "bid_price5_BTC",
         "float64"
        ],
        [
         "bid_volume5_BTC",
         "float64"
        ],
        [
         "ask_price1_BTC",
         "float64"
        ],
        [
         "ask_volume1_BTC",
         "float64"
        ],
        [
         "ask_price2_BTC",
         "float64"
        ],
        [
         "ask_volume2_BTC",
         "float64"
        ],
        [
         "ask_price3_BTC",
         "float64"
        ],
        [
         "ask_volume3_BTC",
         "float64"
        ],
        [
         "ask_price4_BTC",
         "float64"
        ],
        [
         "ask_volume4_BTC",
         "float64"
        ],
        [
         "ask_price5_BTC",
         "float64"
        ],
        [
         "ask_volume5_BTC",
         "float64"
        ]
       ],
       "shape": {
        "columns": 1,
        "rows": 44
       }
      },
      "text/plain": [
       "timestamp_ETH      datetime64[ns]\n",
       "mid_price_ETH             float64\n",
       "bid_price1_ETH            float64\n",
       "bid_volume1_ETH           float64\n",
       "bid_price2_ETH            float64\n",
       "bid_volume2_ETH           float64\n",
       "bid_price3_ETH            float64\n",
       "bid_volume3_ETH           float64\n",
       "bid_price4_ETH            float64\n",
       "bid_volume4_ETH           float64\n",
       "bid_price5_ETH            float64\n",
       "bid_volume5_ETH           float64\n",
       "ask_price1_ETH            float64\n",
       "ask_volume1_ETH           float64\n",
       "ask_price2_ETH            float64\n",
       "ask_volume2_ETH           float64\n",
       "ask_price3_ETH            float64\n",
       "ask_volume3_ETH           float64\n",
       "ask_price4_ETH            float64\n",
       "ask_volume4_ETH           float64\n",
       "ask_price5_ETH            float64\n",
       "ask_volume5_ETH           float64\n",
       "label_ETH                 float64\n",
       "mid_price_BTC             float64\n",
       "bid_price1_BTC            float64\n",
       "bid_volume1_BTC           float64\n",
       "bid_price2_BTC            float64\n",
       "bid_volume2_BTC           float64\n",
       "bid_price3_BTC            float64\n",
       "bid_volume3_BTC           float64\n",
       "bid_price4_BTC            float64\n",
       "bid_volume4_BTC           float64\n",
       "bid_price5_BTC            float64\n",
       "bid_volume5_BTC           float64\n",
       "ask_price1_BTC            float64\n",
       "ask_volume1_BTC           float64\n",
       "ask_price2_BTC            float64\n",
       "ask_volume2_BTC           float64\n",
       "ask_price3_BTC            float64\n",
       "ask_volume3_BTC           float64\n",
       "ask_price4_BTC            float64\n",
       "ask_volume4_BTC           float64\n",
       "ask_price5_BTC            float64\n",
       "ask_volume5_BTC           float64\n",
       "dtype: object"
      ]
     },
     "execution_count": 29,
     "metadata": {},
     "output_type": "execute_result"
    }
   ],
   "source": [
    "defval.dtypes"
   ]
  },
  {
   "cell_type": "code",
   "execution_count": 55,
   "id": "845f87d5",
   "metadata": {},
   "outputs": [],
   "source": [
    "featurevals = pd.read_csv(\"all_features1.csv\")"
   ]
  },
  {
   "cell_type": "code",
   "execution_count": 56,
   "id": "57ff4a04",
   "metadata": {},
   "outputs": [],
   "source": [
    "import xgboost as xgb\n",
    "from sklearn.model_selection import train_test_split\n",
    "\n",
    "X = featurevals.drop(columns=[\"label_ETH\", \"timestamp_ETH\",\"time_diff\"])\n",
    "y = featurevals[\"label_ETH\"]\n",
    "X_train, X_test, y_train, y_test = train_test_split(X, y, test_size=0.2, random_state=42)\n",
    "dtrain = xgb.DMatrix(X_train, label=y_train)"
   ]
  },
  {
   "cell_type": "code",
   "execution_count": 44,
   "id": "a4a7876f",
   "metadata": {},
   "outputs": [
    {
     "data": {
      "text/plain": [
       "<xgboost.core.DMatrix at 0x13c47e120>"
      ]
     },
     "execution_count": 44,
     "metadata": {},
     "output_type": "execute_result"
    }
   ],
   "source": [
    "dtrain"
   ]
  },
  {
   "cell_type": "code",
   "execution_count": 57,
   "id": "4a2483de",
   "metadata": {},
   "outputs": [
    {
     "name": "stderr",
     "output_type": "stream",
     "text": [
      "/Library/Frameworks/Python.framework/Versions/3.13/lib/python3.13/site-packages/xgboost/core.py:726: FutureWarning: Pass `evals` as keyword args.\n",
      "  warnings.warn(msg, FutureWarning)\n"
     ]
    },
    {
     "name": "stdout",
     "output_type": "stream",
     "text": [
      "[0]\ttrain-rmse:0.00006\teval-rmse:0.00006\n",
      "[1]\ttrain-rmse:0.00005\teval-rmse:0.00006\n",
      "[2]\ttrain-rmse:0.00005\teval-rmse:0.00005\n",
      "[3]\ttrain-rmse:0.00005\teval-rmse:0.00005\n",
      "[4]\ttrain-rmse:0.00005\teval-rmse:0.00005\n",
      "[5]\ttrain-rmse:0.00005\teval-rmse:0.00005\n",
      "[6]\ttrain-rmse:0.00005\teval-rmse:0.00005\n",
      "[7]\ttrain-rmse:0.00005\teval-rmse:0.00005\n",
      "[8]\ttrain-rmse:0.00004\teval-rmse:0.00005\n",
      "[9]\ttrain-rmse:0.00004\teval-rmse:0.00005\n",
      "[10]\ttrain-rmse:0.00004\teval-rmse:0.00005\n",
      "[11]\ttrain-rmse:0.00004\teval-rmse:0.00004\n",
      "[12]\ttrain-rmse:0.00004\teval-rmse:0.00004\n",
      "[13]\ttrain-rmse:0.00004\teval-rmse:0.00004\n",
      "[14]\ttrain-rmse:0.00004\teval-rmse:0.00004\n",
      "[15]\ttrain-rmse:0.00004\teval-rmse:0.00004\n",
      "[16]\ttrain-rmse:0.00004\teval-rmse:0.00004\n",
      "[17]\ttrain-rmse:0.00004\teval-rmse:0.00004\n",
      "[18]\ttrain-rmse:0.00004\teval-rmse:0.00004\n",
      "[19]\ttrain-rmse:0.00004\teval-rmse:0.00004\n",
      "[20]\ttrain-rmse:0.00004\teval-rmse:0.00004\n",
      "[21]\ttrain-rmse:0.00004\teval-rmse:0.00004\n",
      "[22]\ttrain-rmse:0.00004\teval-rmse:0.00004\n",
      "[23]\ttrain-rmse:0.00004\teval-rmse:0.00004\n",
      "[24]\ttrain-rmse:0.00004\teval-rmse:0.00004\n",
      "[25]\ttrain-rmse:0.00004\teval-rmse:0.00004\n",
      "[26]\ttrain-rmse:0.00004\teval-rmse:0.00004\n",
      "[27]\ttrain-rmse:0.00004\teval-rmse:0.00004\n",
      "[28]\ttrain-rmse:0.00004\teval-rmse:0.00004\n",
      "[29]\ttrain-rmse:0.00004\teval-rmse:0.00004\n",
      "[30]\ttrain-rmse:0.00004\teval-rmse:0.00004\n",
      "[31]\ttrain-rmse:0.00004\teval-rmse:0.00004\n",
      "[32]\ttrain-rmse:0.00004\teval-rmse:0.00004\n",
      "[33]\ttrain-rmse:0.00004\teval-rmse:0.00004\n",
      "[34]\ttrain-rmse:0.00004\teval-rmse:0.00004\n",
      "[35]\ttrain-rmse:0.00004\teval-rmse:0.00004\n",
      "[36]\ttrain-rmse:0.00004\teval-rmse:0.00004\n",
      "[37]\ttrain-rmse:0.00004\teval-rmse:0.00004\n",
      "[38]\ttrain-rmse:0.00004\teval-rmse:0.00004\n",
      "[39]\ttrain-rmse:0.00004\teval-rmse:0.00004\n",
      "[40]\ttrain-rmse:0.00004\teval-rmse:0.00004\n",
      "[41]\ttrain-rmse:0.00004\teval-rmse:0.00004\n",
      "[42]\ttrain-rmse:0.00004\teval-rmse:0.00004\n",
      "[43]\ttrain-rmse:0.00004\teval-rmse:0.00004\n",
      "[44]\ttrain-rmse:0.00004\teval-rmse:0.00004\n",
      "[45]\ttrain-rmse:0.00004\teval-rmse:0.00004\n",
      "[46]\ttrain-rmse:0.00004\teval-rmse:0.00004\n",
      "[47]\ttrain-rmse:0.00004\teval-rmse:0.00004\n",
      "[48]\ttrain-rmse:0.00004\teval-rmse:0.00004\n",
      "[49]\ttrain-rmse:0.00004\teval-rmse:0.00004\n",
      "[50]\ttrain-rmse:0.00004\teval-rmse:0.00004\n",
      "[51]\ttrain-rmse:0.00004\teval-rmse:0.00004\n",
      "[52]\ttrain-rmse:0.00004\teval-rmse:0.00004\n",
      "[53]\ttrain-rmse:0.00004\teval-rmse:0.00004\n",
      "[54]\ttrain-rmse:0.00004\teval-rmse:0.00004\n",
      "[55]\ttrain-rmse:0.00004\teval-rmse:0.00004\n",
      "[56]\ttrain-rmse:0.00004\teval-rmse:0.00004\n",
      "[57]\ttrain-rmse:0.00004\teval-rmse:0.00004\n",
      "[58]\ttrain-rmse:0.00004\teval-rmse:0.00004\n",
      "[59]\ttrain-rmse:0.00004\teval-rmse:0.00004\n",
      "[60]\ttrain-rmse:0.00004\teval-rmse:0.00004\n",
      "[61]\ttrain-rmse:0.00004\teval-rmse:0.00004\n",
      "[62]\ttrain-rmse:0.00004\teval-rmse:0.00004\n",
      "[63]\ttrain-rmse:0.00004\teval-rmse:0.00004\n",
      "[64]\ttrain-rmse:0.00004\teval-rmse:0.00004\n",
      "Mean Squared Error: 1.803264412198513e-09\n"
     ]
    }
   ],
   "source": [
    "import xgboost as xgb\n",
    "from sklearn.metrics import mean_squared_error\n",
    "\n",
    "# Prepare validation data (optional)\n",
    "dtest = xgb.DMatrix(X_test, label=y_test)\n",
    "\n",
    "# Set XGBoost parameters\n",
    "params = {\n",
    "    'objective': 'reg:squarederror',  # Use 'binary:logistic' for classification\n",
    "    'eval_metric': 'rmse',           # Evaluation metric\n",
    "    'max_depth': 6,                  # Maximum depth of trees\n",
    "    'eta': 0.1,                      # Learning rate\n",
    "    'nthread': 4,                    # Number of threads\n",
    "    'seed': 42                       # Random seed\n",
    "}\n",
    "\n",
    "# Train the model\n",
    "evals = [(dtrain, 'train'), (dtest, 'eval')]  # Evaluation sets\n",
    "num_boost_round = 100  # Number of boosting rounds\n",
    "model = xgb.train(params, dtrain, num_boost_round, evals, early_stopping_rounds=10)\n",
    "\n",
    "# Make predictions\n",
    "y_pred = model.predict(dtest)\n",
    "\n",
    "# Evaluate the model\n",
    "mse = mean_squared_error(y_test, y_pred)\n",
    "print(f\"Mean Squared Error: {mse}\")"
   ]
  },
  {
   "cell_type": "code",
   "execution_count": 58,
   "id": "7fbbb454",
   "metadata": {},
   "outputs": [
    {
     "name": "stdout",
     "output_type": "stream",
     "text": [
      "Pearson Correlation: 0.7142964395843061\n"
     ]
    },
    {
     "name": "stderr",
     "output_type": "stream",
     "text": [
      "/Library/Frameworks/Python.framework/Versions/3.13/lib/python3.13/site-packages/scipy/stats/_stats_py.py:4776: RuntimeWarning: overflow encountered in vecdot\n",
      "  r = xp.vecdot(xm / normxm, ym / normym, axis=axis)\n"
     ]
    }
   ],
   "source": [
    "from scipy.stats import pearsonr\n",
    "\n",
    "# Calculate Pearson correlation between predicted and actual values\n",
    "corr, _ = pearsonr(y_test, y_pred)\n",
    "print(f\"Pearson Correlation: {corr}\")"
   ]
  },
  {
   "cell_type": "code",
   "execution_count": 59,
   "id": "987c165c",
   "metadata": {},
   "outputs": [],
   "source": [
    "import pandas as pd\n",
    "\n",
    "df1test = pd.read_csv(\"gq-implied-volatility-forecasting/test/ETH.csv\")\n",
    "df2test = pd.read_csv(\"gq-implied-volatility-forecasting/test/BTC.csv\")\n",
    "\n",
    "# Add suffixes to column names\n",
    "df1test = df1test.add_suffix(\"_ETH\")\n",
    "df2test = df2test.add_suffix(\"_BTC\")\n",
    "\n",
    "# Reset index and merge side by side\n",
    "mergedmore = pd.concat([df1test.reset_index(drop=True), df2test.reset_index(drop=True)], axis=1)\n",
    "\n",
    "mergedmore.to_csv(\"mergedmorefeatures.csv\", index=False)"
   ]
  },
  {
   "cell_type": "code",
   "execution_count": 60,
   "id": "2e15e4a0",
   "metadata": {},
   "outputs": [],
   "source": [
    "model.save_model('xgb_model_morefeatures.json')"
   ]
  },
  {
   "cell_type": "code",
   "execution_count": 75,
   "id": "88f4ccc7",
   "metadata": {},
   "outputs": [],
   "source": [
    "import pandas as pd\n",
    "import numpy as np\n",
    "\n",
    "def generate_features_train(df: pd.DataFrame) -> pd.DataFrame:\n",
    "    out = df.copy()\n",
    "\n",
    "    # ========= ETH Features =========\n",
    "    out[\"spread_eth\"] = out[\"ask_price1_ETH\"] - out[\"bid_price1_ETH\"]\n",
    "\n",
    "    for d in range(1, 6):\n",
    "        out[f\"imb_eth_{d}\"] = (\n",
    "            (out[f\"bid_volume{d}_ETH\"] - out[f\"ask_volume{d}_ETH\"]) /\n",
    "            (out[f\"bid_volume{d}_ETH\"] + out[f\"ask_volume{d}_ETH\"] + 1e-9)\n",
    "        )\n",
    "        \n",
    "\n",
    "    out[\"cum_bid_vol_eth\"] = sum(out[f\"bid_volume{d}_ETH\"] for d in range(1, 6))\n",
    "    out[\"cum_ask_vol_eth\"] = sum(out[f\"ask_volume{d}_ETH\"] for d in range(1, 6))\n",
    "    out[\"cum_imb_eth\"] = (\n",
    "        (out[\"cum_bid_vol_eth\"] - out[\"cum_ask_vol_eth\"]) /\n",
    "        (out[\"cum_bid_vol_eth\"] + out[\"cum_ask_vol_eth\"] + 1e-9)\n",
    "    )\n",
    "\n",
    "    out[\"vwap_bid_eth\"] = (\n",
    "        sum(out[f\"bid_price{d}_ETH\"] * out[f\"bid_volume{d}_ETH\"] for d in range(1, 6))\n",
    "        / (out[\"cum_bid_vol_eth\"] + 1e-9)\n",
    "    )\n",
    "    out[\"vwap_ask_eth\"] = (\n",
    "        sum(out[f\"ask_price{d}_ETH\"] * out[f\"ask_volume{d}_ETH\"] for d in range(1, 6))\n",
    "        / (out[\"cum_ask_vol_eth\"] + 1e-9)\n",
    "    )\n",
    "\n",
    "    out[\"eth_ret\"] = out[\"mid_price_ETH\"].pct_change()\n",
    "    for w in [5, 10, 30]:\n",
    "        out[f\"eth_vol_{w}\"] = out[\"eth_ret\"].rolling(w).std()\n",
    "\n",
    "    # Rolling vol (consecutive timestamps only)\n",
    "    '''out[\"time_diff\"] = out[\"timestamp_ETH\"].diff().dt.total_seconds()\n",
    "    consecutive_groups = (out[\"time_diff\"] != 1).cumsum()'''\n",
    "\n",
    "    def rolling_std_consecutive(group):\n",
    "        if len(group) >= 10:\n",
    "            return group[\"mid_price_ETH\"].rolling(10, min_periods=1).std()\n",
    "        else:\n",
    "            return group[\"mid_price_ETH\"].rolling(len(group), min_periods=1).std()\n",
    "\n",
    "    out[\"rolling_vol_mid_eth\"] = out['mid_price_ETH'].rolling(window=10, min_periods=1).std()\n",
    "\n",
    "    # ========= BTC Features =========\n",
    "    out[\"spread_btc\"] = out[\"ask_price1_BTC\"] - out[\"bid_price1_BTC\"]\n",
    "\n",
    "    for d in range(1, 6):\n",
    "        out[f\"imb_btc_{d}\"] = (\n",
    "            (out[f\"bid_volume{d}_BTC\"] - out[f\"ask_volume{d}_BTC\"]) /\n",
    "            (out[f\"bid_volume{d}_BTC\"] + out[f\"ask_volume{d}_BTC\"] + 1e-9)\n",
    "        )\n",
    "\n",
    "    out[\"cum_bid_vol_btc\"] = sum(out[f\"bid_volume{d}_BTC\"] for d in range(1, 6))\n",
    "    out[\"cum_ask_vol_btc\"] = sum(out[f\"ask_volume{d}_BTC\"] for d in range(1, 6))\n",
    "    out[\"cum_imb_btc\"] = (\n",
    "        (out[\"cum_bid_vol_btc\"] - out[\"cum_ask_vol_btc\"]) /\n",
    "        (out[\"cum_bid_vol_btc\"] + out[\"cum_ask_vol_btc\"] + 1e-9)\n",
    "    )\n",
    "\n",
    "    out[\"vwap_bid_btc\"] = (\n",
    "        sum(out[f\"bid_price{d}_BTC\"] * out[f\"bid_volume{d}_BTC\"] for d in range(1, 6))\n",
    "        / (out[\"cum_bid_vol_btc\"] + 1e-9)\n",
    "    )\n",
    "    out[\"vwap_ask_btc\"] = (\n",
    "        sum(out[f\"ask_price{d}_BTC\"] * out[f\"ask_volume{d}_BTC\"] for d in range(1, 6))\n",
    "        / (out[\"cum_ask_vol_btc\"] + 1e-9)\n",
    "    )\n",
    "\n",
    "    out[\"btc_ret\"] = out[\"mid_price_BTC\"].pct_change()\n",
    "    for w in [5, 10, 30]:\n",
    "        out[f\"btc_vol_{w}\"] = out[\"btc_ret\"].rolling(w).std()\n",
    "\n",
    "    # Rolling vol (consecutive timestamps only)\n",
    "    def rolling_std_consecutive_btc(group):\n",
    "        if len(group) >= 10:\n",
    "            return group[\"mid_price_BTC\"].rolling(10, min_periods=1).std()\n",
    "        else:\n",
    "            return group[\"mid_price_BTC\"].rolling(len(group), min_periods=1).std()\n",
    "\n",
    "    out[\"rolling_vol_mid_btc\"] = out['mid_price_BTC'].rolling(window=10, min_periods=1).std()\n",
    "\n",
    "    # ========= Cross-Asset Features =========\n",
    "    out[\"eth_btc_spread\"] = out[\"mid_price_ETH\"] - out[\"mid_price_BTC\"]\n",
    "    out[\"eth_btc_ratio\"] = out[\"mid_price_ETH\"] / (out[\"mid_price_BTC\"] + 1e-9)\n",
    "\n",
    "    for w in [5, 10, 30]:\n",
    "        out[f\"eth_btc_corr_{w}\"] = out[\"eth_ret\"].rolling(w).corr(out[\"btc_ret\"])\n",
    "\n",
    "    for lag in [1, 2, 5]:\n",
    "        out[f\"btc_ret_lag{lag}\"] = out[\"btc_ret\"].shift(lag)\n",
    "\n",
    "    out[\"btc_liq_ratio\"] = (\n",
    "        (out[\"cum_bid_vol_btc\"] + out[\"cum_ask_vol_btc\"]) /\n",
    "        (out[\"cum_bid_vol_eth\"] + out[\"cum_ask_vol_eth\"] + 1e-9)\n",
    "    )\n",
    "    out[\"rel_imb\"] = out[\"cum_imb_eth\"] - out[\"cum_imb_btc\"]\n",
    "\n",
    "    for w in [30, 60, 120]:\n",
    "        roll_mean = out[\"eth_btc_spread\"].rolling(window=w, min_periods=1).mean()\n",
    "        roll_std = out[\"eth_btc_spread\"].rolling(window=w, min_periods=1).std()\n",
    "        out[f\"zscore_spread_{w}\"] = (out[\"eth_btc_spread\"] - roll_mean) / (roll_std + 1e-9)\n",
    "\n",
    "    out[\"btc_top_imb\"] = (\n",
    "        (out[\"bid_volume1_BTC\"] - out[\"ask_volume1_BTC\"]) /\n",
    "        (out[\"bid_volume1_BTC\"] + out[\"ask_volume1_BTC\"] + 1e-9)\n",
    "    )\n",
    "    out[\"btc_imb_lead_eth\"] = out[\"btc_top_imb\"].shift(1) * out[\"eth_ret\"]\n",
    "\n",
    "    return out\n"
   ]
  },
  {
   "cell_type": "code",
   "execution_count": 76,
   "id": "2e8668bb",
   "metadata": {},
   "outputs": [
    {
     "name": "stderr",
     "output_type": "stream",
     "text": [
      "/var/folders/9g/z7mw9w913l31htrfzlb6lz6w0000gn/T/ipykernel_58848/3439085427.py:33: FutureWarning: The default fill_method='pad' in Series.pct_change is deprecated and will be removed in a future version. Either fill in any non-leading NA values prior to calling pct_change or specify 'fill_method=None' to not fill NA values.\n",
      "  out[\"eth_ret\"] = out[\"mid_price_ETH\"].pct_change()\n",
      "/var/folders/9g/z7mw9w913l31htrfzlb6lz6w0000gn/T/ipykernel_58848/3439085427.py:74: FutureWarning: The default fill_method='pad' in Series.pct_change is deprecated and will be removed in a future version. Either fill in any non-leading NA values prior to calling pct_change or specify 'fill_method=None' to not fill NA values.\n",
      "  out[\"btc_ret\"] = out[\"mid_price_BTC\"].pct_change()\n"
     ]
    }
   ],
   "source": [
    "testingp = generate_features_train(mergedmore  )"
   ]
  },
  {
   "cell_type": "code",
   "execution_count": 77,
   "id": "8f8b8fa8",
   "metadata": {},
   "outputs": [],
   "source": [
    "import xgboost as xgb\n",
    "\n",
    "# Drop timestamp_ETH column for prediction\n",
    "X_test_features = testingp.drop(columns=[\"timestamp_ETH\",\"timestamp_BTC\"])\n",
    "\n",
    "# Load the trained model\n",
    "model_loaded = xgb.Booster()\n",
    "model_loaded.load_model('xgb_model_morefeatures.json')\n",
    "\n",
    "# Prepare DMatrix for prediction\n",
    "dtest_features = xgb.DMatrix(X_test_features)\n",
    "\n",
    "# Make predictions\n",
    "y_pred_test = model_loaded.predict(dtest_features)"
   ]
  },
  {
   "cell_type": "code",
   "execution_count": 79,
   "id": "d3e5420a",
   "metadata": {},
   "outputs": [
    {
     "name": "stdout",
     "output_type": "stream",
     "text": [
      "Predictions saved to 'y_val_pred_predictions_3.csv'\n"
     ]
    }
   ],
   "source": [
    "result_df = pd.DataFrame({\n",
    "    'timestamp': range(1,len(y_pred_test)+1),\n",
    "    'labels': y_pred_test\n",
    "})\n",
    "\n",
    "# Save to CSV\n",
    "result_df.to_csv('y_val_pred_predictions_3.csv', index=False)\n",
    "print(\"Predictions saved to 'y_val_pred_predictions_3.csv'\")"
   ]
  },
  {
   "cell_type": "code",
   "execution_count": 65,
   "id": "bfabe6ef",
   "metadata": {},
   "outputs": [
    {
     "name": "stderr",
     "output_type": "stream",
     "text": [
      "/Library/Frameworks/Python.framework/Versions/3.13/lib/python3.13/site-packages/tqdm/auto.py:21: TqdmWarning: IProgress not found. Please update jupyter and ipywidgets. See https://ipywidgets.readthedocs.io/en/stable/user_install.html\n",
      "  from .autonotebook import tqdm as notebook_tqdm\n"
     ]
    },
    {
     "data": {
      "image/png": "[encoded data removed]",
      "text/plain": [
       "<Figure size 800x950 with 2 Axes>"
      ]
     },
     "metadata": {},
     "output_type": "display_data"
    }
   ],
   "source": [
    "import xgboost as xgb\n",
    "import shap\n",
    "import pandas as pd\n",
    "\n",
    "# Load the trained XGBoost model from JSON\n",
    "model = xgb.Booster()\n",
    "model.load_model('xgb_model_morefeatures.json')\n",
    "\n",
    "# Load the dataset for which SHAP values are to be computed\n",
    "data = pd.read_csv(\"all_features1.csv\")\n",
    "X = data.drop(columns=[\"label_ETH\", \"timestamp_ETH\", \"time_diff\"])  # Drop non-feature columns\n",
    "\n",
    "# Convert the dataset to DMatrix\n",
    "dtest = xgb.DMatrix(X)\n",
    "\n",
    "# Initialize SHAP TreeExplainer\n",
    "explainer = shap.TreeExplainer(model)\n",
    "\n",
    "# Compute SHAP values\n",
    "shap_values = explainer.shap_values(X)\n",
    "\n",
    "# Visualize SHAP values (summary plot)\n",
    "shap.summary_plot(shap_values, X)"
   ]
  },
  {
   "cell_type": "code",
   "execution_count": 69,
   "id": "9aac5375",
   "metadata": {},
   "outputs": [
    {
     "name": "stdout",
     "output_type": "stream",
     "text": [
      "Fitting 5 folds for each of 50 candidates, totalling 250 fits\n"
     ]
    },
    {
     "name": "stderr",
     "output_type": "stream",
     "text": [
      "/var/folders/9g/z7mw9w913l31htrfzlb6lz6w0000gn/T/ipykernel_58848/869790641.py:32: ConstantInputWarning: An input array is constant; the correlation coefficient is not defined.\n",
      "/Library/Frameworks/Python.framework/Versions/3.13/lib/python3.13/site-packages/scipy/stats/_stats_py.py:4776: RuntimeWarning: overflow encountered in vecdot\n",
      "  r = xp.vecdot(xm / normxm, ym / normym, axis=axis)\n",
      "/var/folders/9g/z7mw9w913l31htrfzlb6lz6w0000gn/T/ipykernel_58848/869790641.py:32: ConstantInputWarning: An input array is constant; the correlation coefficient is not defined.\n",
      "/Library/Frameworks/Python.framework/Versions/3.13/lib/python3.13/site-packages/scipy/stats/_stats_py.py:4776: RuntimeWarning: overflow encountered in vecdot\n",
      "  r = xp.vecdot(xm / normxm, ym / normym, axis=axis)\n",
      "/Library/Frameworks/Python.framework/Versions/3.13/lib/python3.13/site-packages/scipy/stats/_stats_py.py:4776: RuntimeWarning: overflow encountered in vecdot\n",
      "  r = xp.vecdot(xm / normxm, ym / normym, axis=axis)\n",
      "/Library/Frameworks/Python.framework/Versions/3.13/lib/python3.13/site-packages/scipy/stats/_stats_py.py:4776: RuntimeWarning: overflow encountered in vecdot\n",
      "  r = xp.vecdot(xm / normxm, ym / normym, axis=axis)\n",
      "/Library/Frameworks/Python.framework/Versions/3.13/lib/python3.13/site-packages/scipy/stats/_stats_py.py:4776: RuntimeWarning: overflow encountered in vecdot\n",
      "  r = xp.vecdot(xm / normxm, ym / normym, axis=axis)\n",
      "/Library/Frameworks/Python.framework/Versions/3.13/lib/python3.13/site-packages/scipy/stats/_stats_py.py:4776: RuntimeWarning: overflow encountered in vecdot\n",
      "  r = xp.vecdot(xm / normxm, ym / normym, axis=axis)\n",
      "/Library/Frameworks/Python.framework/Versions/3.13/lib/python3.13/site-packages/scipy/stats/_stats_py.py:4776: RuntimeWarning: overflow encountered in vecdot\n",
      "  r = xp.vecdot(xm / normxm, ym / normym, axis=axis)\n",
      "/Library/Frameworks/Python.framework/Versions/3.13/lib/python3.13/site-packages/scipy/stats/_stats_py.py:4776: RuntimeWarning: overflow encountered in vecdot\n",
      "  r = xp.vecdot(xm / normxm, ym / normym, axis=axis)\n",
      "/var/folders/9g/z7mw9w913l31htrfzlb6lz6w0000gn/T/ipykernel_58848/869790641.py:32: ConstantInputWarning: An input array is constant; the correlation coefficient is not defined.\n",
      "/Library/Frameworks/Python.framework/Versions/3.13/lib/python3.13/site-packages/scipy/stats/_stats_py.py:4776: RuntimeWarning: overflow encountered in vecdot\n",
      "  r = xp.vecdot(xm / normxm, ym / normym, axis=axis)\n",
      "/Library/Frameworks/Python.framework/Versions/3.13/lib/python3.13/site-packages/scipy/stats/_stats_py.py:4776: RuntimeWarning: overflow encountered in vecdot\n",
      "  r = xp.vecdot(xm / normxm, ym / normym, axis=axis)\n",
      "/Library/Frameworks/Python.framework/Versions/3.13/lib/python3.13/site-packages/scipy/stats/_stats_py.py:4776: RuntimeWarning: overflow encountered in vecdot\n",
      "  r = xp.vecdot(xm / normxm, ym / normym, axis=axis)\n",
      "/Library/Frameworks/Python.framework/Versions/3.13/lib/python3.13/site-packages/scipy/stats/_stats_py.py:4776: RuntimeWarning: overflow encountered in vecdot\n",
      "  r = xp.vecdot(xm / normxm, ym / normym, axis=axis)\n",
      "/Library/Frameworks/Python.framework/Versions/3.13/lib/python3.13/site-packages/scipy/stats/_stats_py.py:4776: RuntimeWarning: overflow encountered in vecdot\n",
      "  r = xp.vecdot(xm / normxm, ym / normym, axis=axis)\n",
      "/Library/Frameworks/Python.framework/Versions/3.13/lib/python3.13/site-packages/scipy/stats/_stats_py.py:4776: RuntimeWarning: overflow encountered in vecdot\n",
      "  r = xp.vecdot(xm / normxm, ym / normym, axis=axis)\n",
      "/var/folders/9g/z7mw9w913l31htrfzlb6lz6w0000gn/T/ipykernel_58848/869790641.py:32: ConstantInputWarning: An input array is constant; the correlation coefficient is not defined.\n",
      "/Library/Frameworks/Python.framework/Versions/3.13/lib/python3.13/site-packages/scipy/stats/_stats_py.py:4776: RuntimeWarning: overflow encountered in vecdot\n",
      "  r = xp.vecdot(xm / normxm, ym / normym, axis=axis)\n",
      "/Library/Frameworks/Python.framework/Versions/3.13/lib/python3.13/site-packages/scipy/stats/_stats_py.py:4776: RuntimeWarning: overflow encountered in vecdot\n",
      "  r = xp.vecdot(xm / normxm, ym / normym, axis=axis)\n",
      "/Library/Frameworks/Python.framework/Versions/3.13/lib/python3.13/site-packages/scipy/stats/_stats_py.py:4776: RuntimeWarning: overflow encountered in vecdot\n",
      "  r = xp.vecdot(xm / normxm, ym / normym, axis=axis)\n",
      "/Library/Frameworks/Python.framework/Versions/3.13/lib/python3.13/site-packages/scipy/stats/_stats_py.py:4776: RuntimeWarning: overflow encountered in vecdot\n",
      "  r = xp.vecdot(xm / normxm, ym / normym, axis=axis)\n",
      "/Library/Frameworks/Python.framework/Versions/3.13/lib/python3.13/site-packages/scipy/stats/_stats_py.py:4776: RuntimeWarning: overflow encountered in vecdot\n",
      "  r = xp.vecdot(xm / normxm, ym / normym, axis=axis)\n",
      "/Library/Frameworks/Python.framework/Versions/3.13/lib/python3.13/site-packages/scipy/stats/_stats_py.py:4776: RuntimeWarning: overflow encountered in vecdot\n",
      "  r = xp.vecdot(xm / normxm, ym / normym, axis=axis)\n",
      "/Library/Frameworks/Python.framework/Versions/3.13/lib/python3.13/site-packages/scipy/stats/_stats_py.py:4776: RuntimeWarning: overflow encountered in vecdot\n",
      "  r = xp.vecdot(xm / normxm, ym / normym, axis=axis)\n",
      "/Library/Frameworks/Python.framework/Versions/3.13/lib/python3.13/site-packages/scipy/stats/_stats_py.py:4776: RuntimeWarning: overflow encountered in vecdot\n",
      "  r = xp.vecdot(xm / normxm, ym / normym, axis=axis)\n",
      "/Library/Frameworks/Python.framework/Versions/3.13/lib/python3.13/site-packages/scipy/stats/_stats_py.py:4776: RuntimeWarning: overflow encountered in vecdot\n",
      "  r = xp.vecdot(xm / normxm, ym / normym, axis=axis)\n",
      "/Library/Frameworks/Python.framework/Versions/3.13/lib/python3.13/site-packages/scipy/stats/_stats_py.py:4776: RuntimeWarning: overflow encountered in vecdot\n",
      "  r = xp.vecdot(xm / normxm, ym / normym, axis=axis)\n",
      "/var/folders/9g/z7mw9w913l31htrfzlb6lz6w0000gn/T/ipykernel_58848/869790641.py:32: ConstantInputWarning: An input array is constant; the correlation coefficient is not defined.\n",
      "/Library/Frameworks/Python.framework/Versions/3.13/lib/python3.13/site-packages/scipy/stats/_stats_py.py:4776: RuntimeWarning: overflow encountered in vecdot\n",
      "  r = xp.vecdot(xm / normxm, ym / normym, axis=axis)\n",
      "/Library/Frameworks/Python.framework/Versions/3.13/lib/python3.13/site-packages/scipy/stats/_stats_py.py:4776: RuntimeWarning: overflow encountered in vecdot\n",
      "  r = xp.vecdot(xm / normxm, ym / normym, axis=axis)\n",
      "/Library/Frameworks/Python.framework/Versions/3.13/lib/python3.13/site-packages/scipy/stats/_stats_py.py:4776: RuntimeWarning: overflow encountered in vecdot\n",
      "  r = xp.vecdot(xm / normxm, ym / normym, axis=axis)\n",
      "/Library/Frameworks/Python.framework/Versions/3.13/lib/python3.13/site-packages/scipy/stats/_stats_py.py:4776: RuntimeWarning: overflow encountered in vecdot\n",
      "  r = xp.vecdot(xm / normxm, ym / normym, axis=axis)\n",
      "/Library/Frameworks/Python.framework/Versions/3.13/lib/python3.13/site-packages/scipy/stats/_stats_py.py:4776: RuntimeWarning: overflow encountered in vecdot\n",
      "  r = xp.vecdot(xm / normxm, ym / normym, axis=axis)\n",
      "/Library/Frameworks/Python.framework/Versions/3.13/lib/python3.13/site-packages/scipy/stats/_stats_py.py:4776: RuntimeWarning: overflow encountered in vecdot\n",
      "  r = xp.vecdot(xm / normxm, ym / normym, axis=axis)\n",
      "/Library/Frameworks/Python.framework/Versions/3.13/lib/python3.13/site-packages/scipy/stats/_stats_py.py:4776: RuntimeWarning: overflow encountered in vecdot\n",
      "  r = xp.vecdot(xm / normxm, ym / normym, axis=axis)\n",
      "/Library/Frameworks/Python.framework/Versions/3.13/lib/python3.13/site-packages/scipy/stats/_stats_py.py:4776: RuntimeWarning: overflow encountered in vecdot\n",
      "  r = xp.vecdot(xm / normxm, ym / normym, axis=axis)\n",
      "/Library/Frameworks/Python.framework/Versions/3.13/lib/python3.13/site-packages/scipy/stats/_stats_py.py:4776: RuntimeWarning: overflow encountered in vecdot\n",
      "  r = xp.vecdot(xm / normxm, ym / normym, axis=axis)\n",
      "/Library/Frameworks/Python.framework/Versions/3.13/lib/python3.13/site-packages/scipy/stats/_stats_py.py:4776: RuntimeWarning: overflow encountered in vecdot\n",
      "  r = xp.vecdot(xm / normxm, ym / normym, axis=axis)\n",
      "/Library/Frameworks/Python.framework/Versions/3.13/lib/python3.13/site-packages/scipy/stats/_stats_py.py:4776: RuntimeWarning: overflow encountered in vecdot\n",
      "  r = xp.vecdot(xm / normxm, ym / normym, axis=axis)\n",
      "/Library/Frameworks/Python.framework/Versions/3.13/lib/python3.13/site-packages/scipy/stats/_stats_py.py:4776: RuntimeWarning: overflow encountered in vecdot\n",
      "  r = xp.vecdot(xm / normxm, ym / normym, axis=axis)\n",
      "/Library/Frameworks/Python.framework/Versions/3.13/lib/python3.13/site-packages/scipy/stats/_stats_py.py:4776: RuntimeWarning: overflow encountered in vecdot\n",
      "  r = xp.vecdot(xm / normxm, ym / normym, axis=axis)\n",
      "/Library/Frameworks/Python.framework/Versions/3.13/lib/python3.13/site-packages/scipy/stats/_stats_py.py:4776: RuntimeWarning: overflow encountered in vecdot\n",
      "  r = xp.vecdot(xm / normxm, ym / normym, axis=axis)\n",
      "/Library/Frameworks/Python.framework/Versions/3.13/lib/python3.13/site-packages/scipy/stats/_stats_py.py:4776: RuntimeWarning: overflow encountered in vecdot\n",
      "  r = xp.vecdot(xm / normxm, ym / normym, axis=axis)\n",
      "/Library/Frameworks/Python.framework/Versions/3.13/lib/python3.13/site-packages/scipy/stats/_stats_py.py:4776: RuntimeWarning: overflow encountered in vecdot\n",
      "  r = xp.vecdot(xm / normxm, ym / normym, axis=axis)\n",
      "/Library/Frameworks/Python.framework/Versions/3.13/lib/python3.13/site-packages/scipy/stats/_stats_py.py:4776: RuntimeWarning: overflow encountered in vecdot\n",
      "  r = xp.vecdot(xm / normxm, ym / normym, axis=axis)\n",
      "/Library/Frameworks/Python.framework/Versions/3.13/lib/python3.13/site-packages/scipy/stats/_stats_py.py:4776: RuntimeWarning: overflow encountered in vecdot\n",
      "  r = xp.vecdot(xm / normxm, ym / normym, axis=axis)\n",
      "/Library/Frameworks/Python.framework/Versions/3.13/lib/python3.13/site-packages/scipy/stats/_stats_py.py:4776: RuntimeWarning: overflow encountered in vecdot\n",
      "  r = xp.vecdot(xm / normxm, ym / normym, axis=axis)\n",
      "/Library/Frameworks/Python.framework/Versions/3.13/lib/python3.13/site-packages/scipy/stats/_stats_py.py:4776: RuntimeWarning: overflow encountered in vecdot\n",
      "  r = xp.vecdot(xm / normxm, ym / normym, axis=axis)\n",
      "/var/folders/9g/z7mw9w913l31htrfzlb6lz6w0000gn/T/ipykernel_58848/869790641.py:32: ConstantInputWarning: An input array is constant; the correlation coefficient is not defined.\n",
      "/Library/Frameworks/Python.framework/Versions/3.13/lib/python3.13/site-packages/scipy/stats/_stats_py.py:4776: RuntimeWarning: overflow encountered in vecdot\n",
      "  r = xp.vecdot(xm / normxm, ym / normym, axis=axis)\n",
      "/Library/Frameworks/Python.framework/Versions/3.13/lib/python3.13/site-packages/scipy/stats/_stats_py.py:4776: RuntimeWarning: overflow encountered in vecdot\n",
      "  r = xp.vecdot(xm / normxm, ym / normym, axis=axis)\n",
      "/Library/Frameworks/Python.framework/Versions/3.13/lib/python3.13/site-packages/scipy/stats/_stats_py.py:4776: RuntimeWarning: overflow encountered in vecdot\n",
      "  r = xp.vecdot(xm / normxm, ym / normym, axis=axis)\n",
      "/Library/Frameworks/Python.framework/Versions/3.13/lib/python3.13/site-packages/scipy/stats/_stats_py.py:4776: RuntimeWarning: overflow encountered in vecdot\n",
      "  r = xp.vecdot(xm / normxm, ym / normym, axis=axis)\n",
      "/Library/Frameworks/Python.framework/Versions/3.13/lib/python3.13/site-packages/scipy/stats/_stats_py.py:4776: RuntimeWarning: overflow encountered in vecdot\n",
      "  r = xp.vecdot(xm / normxm, ym / normym, axis=axis)\n",
      "/var/folders/9g/z7mw9w913l31htrfzlb6lz6w0000gn/T/ipykernel_58848/869790641.py:32: ConstantInputWarning: An input array is constant; the correlation coefficient is not defined.\n",
      "/Library/Frameworks/Python.framework/Versions/3.13/lib/python3.13/site-packages/scipy/stats/_stats_py.py:4776: RuntimeWarning: overflow encountered in vecdot\n",
      "  r = xp.vecdot(xm / normxm, ym / normym, axis=axis)\n",
      "/Library/Frameworks/Python.framework/Versions/3.13/lib/python3.13/site-packages/scipy/stats/_stats_py.py:4776: RuntimeWarning: overflow encountered in vecdot\n",
      "  r = xp.vecdot(xm / normxm, ym / normym, axis=axis)\n",
      "/var/folders/9g/z7mw9w913l31htrfzlb6lz6w0000gn/T/ipykernel_58848/869790641.py:32: ConstantInputWarning: An input array is constant; the correlation coefficient is not defined.\n",
      "/Library/Frameworks/Python.framework/Versions/3.13/lib/python3.13/site-packages/scipy/stats/_stats_py.py:4776: RuntimeWarning: overflow encountered in vecdot\n",
      "  r = xp.vecdot(xm / normxm, ym / normym, axis=axis)\n",
      "/Library/Frameworks/Python.framework/Versions/3.13/lib/python3.13/site-packages/scipy/stats/_stats_py.py:4776: RuntimeWarning: overflow encountered in vecdot\n",
      "  r = xp.vecdot(xm / normxm, ym / normym, axis=axis)\n",
      "/Library/Frameworks/Python.framework/Versions/3.13/lib/python3.13/site-packages/scipy/stats/_stats_py.py:4776: RuntimeWarning: overflow encountered in vecdot\n",
      "  r = xp.vecdot(xm / normxm, ym / normym, axis=axis)\n",
      "/Library/Frameworks/Python.framework/Versions/3.13/lib/python3.13/site-packages/scipy/stats/_stats_py.py:4776: RuntimeWarning: overflow encountered in vecdot\n",
      "  r = xp.vecdot(xm / normxm, ym / normym, axis=axis)\n",
      "/Library/Frameworks/Python.framework/Versions/3.13/lib/python3.13/site-packages/scipy/stats/_stats_py.py:4776: RuntimeWarning: overflow encountered in vecdot\n",
      "  r = xp.vecdot(xm / normxm, ym / normym, axis=axis)\n",
      "/Library/Frameworks/Python.framework/Versions/3.13/lib/python3.13/site-packages/scipy/stats/_stats_py.py:4776: RuntimeWarning: overflow encountered in vecdot\n",
      "  r = xp.vecdot(xm / normxm, ym / normym, axis=axis)\n",
      "/var/folders/9g/z7mw9w913l31htrfzlb6lz6w0000gn/T/ipykernel_58848/869790641.py:32: ConstantInputWarning: An input array is constant; the correlation coefficient is not defined.\n",
      "/Library/Frameworks/Python.framework/Versions/3.13/lib/python3.13/site-packages/scipy/stats/_stats_py.py:4776: RuntimeWarning: overflow encountered in vecdot\n",
      "  r = xp.vecdot(xm / normxm, ym / normym, axis=axis)\n",
      "/Library/Frameworks/Python.framework/Versions/3.13/lib/python3.13/site-packages/scipy/stats/_stats_py.py:4776: RuntimeWarning: overflow encountered in vecdot\n",
      "  r = xp.vecdot(xm / normxm, ym / normym, axis=axis)\n",
      "/Library/Frameworks/Python.framework/Versions/3.13/lib/python3.13/site-packages/scipy/stats/_stats_py.py:4776: RuntimeWarning: overflow encountered in vecdot\n",
      "  r = xp.vecdot(xm / normxm, ym / normym, axis=axis)\n",
      "/Library/Frameworks/Python.framework/Versions/3.13/lib/python3.13/site-packages/scipy/stats/_stats_py.py:4776: RuntimeWarning: overflow encountered in vecdot\n",
      "  r = xp.vecdot(xm / normxm, ym / normym, axis=axis)\n",
      "/Library/Frameworks/Python.framework/Versions/3.13/lib/python3.13/site-packages/scipy/stats/_stats_py.py:4776: RuntimeWarning: overflow encountered in vecdot\n",
      "  r = xp.vecdot(xm / normxm, ym / normym, axis=axis)\n",
      "/Library/Frameworks/Python.framework/Versions/3.13/lib/python3.13/site-packages/scipy/stats/_stats_py.py:4776: RuntimeWarning: overflow encountered in vecdot\n",
      "  r = xp.vecdot(xm / normxm, ym / normym, axis=axis)\n",
      "/Library/Frameworks/Python.framework/Versions/3.13/lib/python3.13/site-packages/scipy/stats/_stats_py.py:4776: RuntimeWarning: overflow encountered in vecdot\n",
      "  r = xp.vecdot(xm / normxm, ym / normym, axis=axis)\n",
      "/Library/Frameworks/Python.framework/Versions/3.13/lib/python3.13/site-packages/scipy/stats/_stats_py.py:4776: RuntimeWarning: overflow encountered in vecdot\n",
      "  r = xp.vecdot(xm / normxm, ym / normym, axis=axis)\n",
      "/Library/Frameworks/Python.framework/Versions/3.13/lib/python3.13/site-packages/scipy/stats/_stats_py.py:4776: RuntimeWarning: overflow encountered in vecdot\n",
      "  r = xp.vecdot(xm / normxm, ym / normym, axis=axis)\n",
      "/var/folders/9g/z7mw9w913l31htrfzlb6lz6w0000gn/T/ipykernel_58848/869790641.py:32: ConstantInputWarning: An input array is constant; the correlation coefficient is not defined.\n",
      "/Library/Frameworks/Python.framework/Versions/3.13/lib/python3.13/site-packages/scipy/stats/_stats_py.py:4776: RuntimeWarning: overflow encountered in vecdot\n",
      "  r = xp.vecdot(xm / normxm, ym / normym, axis=axis)\n",
      "/Library/Frameworks/Python.framework/Versions/3.13/lib/python3.13/site-packages/scipy/stats/_stats_py.py:4776: RuntimeWarning: overflow encountered in vecdot\n",
      "  r = xp.vecdot(xm / normxm, ym / normym, axis=axis)\n",
      "/Library/Frameworks/Python.framework/Versions/3.13/lib/python3.13/site-packages/scipy/stats/_stats_py.py:4776: RuntimeWarning: overflow encountered in vecdot\n",
      "  r = xp.vecdot(xm / normxm, ym / normym, axis=axis)\n",
      "/var/folders/9g/z7mw9w913l31htrfzlb6lz6w0000gn/T/ipykernel_58848/869790641.py:32: ConstantInputWarning: An input array is constant; the correlation coefficient is not defined.\n",
      "/Library/Frameworks/Python.framework/Versions/3.13/lib/python3.13/site-packages/scipy/stats/_stats_py.py:4776: RuntimeWarning: overflow encountered in vecdot\n",
      "  r = xp.vecdot(xm / normxm, ym / normym, axis=axis)\n",
      "/Library/Frameworks/Python.framework/Versions/3.13/lib/python3.13/site-packages/scipy/stats/_stats_py.py:4776: RuntimeWarning: overflow encountered in vecdot\n",
      "  r = xp.vecdot(xm / normxm, ym / normym, axis=axis)\n",
      "/Library/Frameworks/Python.framework/Versions/3.13/lib/python3.13/site-packages/scipy/stats/_stats_py.py:4776: RuntimeWarning: overflow encountered in vecdot\n",
      "  r = xp.vecdot(xm / normxm, ym / normym, axis=axis)\n",
      "/Library/Frameworks/Python.framework/Versions/3.13/lib/python3.13/site-packages/scipy/stats/_stats_py.py:4776: RuntimeWarning: overflow encountered in vecdot\n",
      "  r = xp.vecdot(xm / normxm, ym / normym, axis=axis)\n",
      "/Library/Frameworks/Python.framework/Versions/3.13/lib/python3.13/site-packages/scipy/stats/_stats_py.py:4776: RuntimeWarning: overflow encountered in vecdot\n",
      "  r = xp.vecdot(xm / normxm, ym / normym, axis=axis)\n",
      "/Library/Frameworks/Python.framework/Versions/3.13/lib/python3.13/site-packages/scipy/stats/_stats_py.py:4776: RuntimeWarning: overflow encountered in vecdot\n",
      "  r = xp.vecdot(xm / normxm, ym / normym, axis=axis)\n",
      "/Library/Frameworks/Python.framework/Versions/3.13/lib/python3.13/site-packages/scipy/stats/_stats_py.py:4776: RuntimeWarning: overflow encountered in vecdot\n",
      "  r = xp.vecdot(xm / normxm, ym / normym, axis=axis)\n",
      "/var/folders/9g/z7mw9w913l31htrfzlb6lz6w0000gn/T/ipykernel_58848/869790641.py:32: ConstantInputWarning: An input array is constant; the correlation coefficient is not defined.\n",
      "/Library/Frameworks/Python.framework/Versions/3.13/lib/python3.13/site-packages/scipy/stats/_stats_py.py:4776: RuntimeWarning: overflow encountered in vecdot\n",
      "  r = xp.vecdot(xm / normxm, ym / normym, axis=axis)\n",
      "/Library/Frameworks/Python.framework/Versions/3.13/lib/python3.13/site-packages/scipy/stats/_stats_py.py:4776: RuntimeWarning: overflow encountered in vecdot\n",
      "  r = xp.vecdot(xm / normxm, ym / normym, axis=axis)\n",
      "/Library/Frameworks/Python.framework/Versions/3.13/lib/python3.13/site-packages/scipy/stats/_stats_py.py:4776: RuntimeWarning: overflow encountered in vecdot\n",
      "  r = xp.vecdot(xm / normxm, ym / normym, axis=axis)\n",
      "/Library/Frameworks/Python.framework/Versions/3.13/lib/python3.13/site-packages/scipy/stats/_stats_py.py:4776: RuntimeWarning: overflow encountered in vecdot\n",
      "  r = xp.vecdot(xm / normxm, ym / normym, axis=axis)\n",
      "/Library/Frameworks/Python.framework/Versions/3.13/lib/python3.13/site-packages/scipy/stats/_stats_py.py:4776: RuntimeWarning: overflow encountered in vecdot\n",
      "  r = xp.vecdot(xm / normxm, ym / normym, axis=axis)\n",
      "/Library/Frameworks/Python.framework/Versions/3.13/lib/python3.13/site-packages/scipy/stats/_stats_py.py:4776: RuntimeWarning: overflow encountered in vecdot\n",
      "  r = xp.vecdot(xm / normxm, ym / normym, axis=axis)\n",
      "/Library/Frameworks/Python.framework/Versions/3.13/lib/python3.13/site-packages/scipy/stats/_stats_py.py:4776: RuntimeWarning: overflow encountered in vecdot\n",
      "  r = xp.vecdot(xm / normxm, ym / normym, axis=axis)\n",
      "/Library/Frameworks/Python.framework/Versions/3.13/lib/python3.13/site-packages/scipy/stats/_stats_py.py:4776: RuntimeWarning: overflow encountered in vecdot\n",
      "  r = xp.vecdot(xm / normxm, ym / normym, axis=axis)\n",
      "/Library/Frameworks/Python.framework/Versions/3.13/lib/python3.13/site-packages/scipy/stats/_stats_py.py:4776: RuntimeWarning: overflow encountered in vecdot\n",
      "  r = xp.vecdot(xm / normxm, ym / normym, axis=axis)\n",
      "/var/folders/9g/z7mw9w913l31htrfzlb6lz6w0000gn/T/ipykernel_58848/869790641.py:32: ConstantInputWarning: An input array is constant; the correlation coefficient is not defined.\n",
      "/Library/Frameworks/Python.framework/Versions/3.13/lib/python3.13/site-packages/scipy/stats/_stats_py.py:4776: RuntimeWarning: overflow encountered in vecdot\n",
      "  r = xp.vecdot(xm / normxm, ym / normym, axis=axis)\n",
      "/Library/Frameworks/Python.framework/Versions/3.13/lib/python3.13/site-packages/scipy/stats/_stats_py.py:4776: RuntimeWarning: overflow encountered in vecdot\n",
      "  r = xp.vecdot(xm / normxm, ym / normym, axis=axis)\n",
      "/Library/Frameworks/Python.framework/Versions/3.13/lib/python3.13/site-packages/scipy/stats/_stats_py.py:4776: RuntimeWarning: overflow encountered in vecdot\n",
      "  r = xp.vecdot(xm / normxm, ym / normym, axis=axis)\n",
      "/Library/Frameworks/Python.framework/Versions/3.13/lib/python3.13/site-packages/scipy/stats/_stats_py.py:4776: RuntimeWarning: overflow encountered in vecdot\n",
      "  r = xp.vecdot(xm / normxm, ym / normym, axis=axis)\n",
      "/Library/Frameworks/Python.framework/Versions/3.13/lib/python3.13/site-packages/scipy/stats/_stats_py.py:4776: RuntimeWarning: overflow encountered in vecdot\n",
      "  r = xp.vecdot(xm / normxm, ym / normym, axis=axis)\n",
      "/Library/Frameworks/Python.framework/Versions/3.13/lib/python3.13/site-packages/scipy/stats/_stats_py.py:4776: RuntimeWarning: overflow encountered in vecdot\n",
      "  r = xp.vecdot(xm / normxm, ym / normym, axis=axis)\n",
      "/Library/Frameworks/Python.framework/Versions/3.13/lib/python3.13/site-packages/scipy/stats/_stats_py.py:4776: RuntimeWarning: overflow encountered in vecdot\n",
      "  r = xp.vecdot(xm / normxm, ym / normym, axis=axis)\n",
      "/Library/Frameworks/Python.framework/Versions/3.13/lib/python3.13/site-packages/scipy/stats/_stats_py.py:4776: RuntimeWarning: overflow encountered in vecdot\n",
      "  r = xp.vecdot(xm / normxm, ym / normym, axis=axis)\n",
      "/Library/Frameworks/Python.framework/Versions/3.13/lib/python3.13/site-packages/scipy/stats/_stats_py.py:4776: RuntimeWarning: overflow encountered in vecdot\n",
      "  r = xp.vecdot(xm / normxm, ym / normym, axis=axis)\n",
      "/Library/Frameworks/Python.framework/Versions/3.13/lib/python3.13/site-packages/scipy/stats/_stats_py.py:4776: RuntimeWarning: overflow encountered in vecdot\n",
      "  r = xp.vecdot(xm / normxm, ym / normym, axis=axis)\n",
      "/Library/Frameworks/Python.framework/Versions/3.13/lib/python3.13/site-packages/scipy/stats/_stats_py.py:4776: RuntimeWarning: overflow encountered in vecdot\n",
      "  r = xp.vecdot(xm / normxm, ym / normym, axis=axis)\n",
      "/Library/Frameworks/Python.framework/Versions/3.13/lib/python3.13/site-packages/scipy/stats/_stats_py.py:4776: RuntimeWarning: overflow encountered in vecdot\n",
      "  r = xp.vecdot(xm / normxm, ym / normym, axis=axis)\n",
      "/Library/Frameworks/Python.framework/Versions/3.13/lib/python3.13/site-packages/scipy/stats/_stats_py.py:4776: RuntimeWarning: overflow encountered in vecdot\n",
      "  r = xp.vecdot(xm / normxm, ym / normym, axis=axis)\n",
      "/Library/Frameworks/Python.framework/Versions/3.13/lib/python3.13/site-packages/scipy/stats/_stats_py.py:4776: RuntimeWarning: overflow encountered in vecdot\n",
      "  r = xp.vecdot(xm / normxm, ym / normym, axis=axis)\n",
      "/Library/Frameworks/Python.framework/Versions/3.13/lib/python3.13/site-packages/scipy/stats/_stats_py.py:4776: RuntimeWarning: overflow encountered in vecdot\n",
      "  r = xp.vecdot(xm / normxm, ym / normym, axis=axis)\n",
      "/Library/Frameworks/Python.framework/Versions/3.13/lib/python3.13/site-packages/scipy/stats/_stats_py.py:4776: RuntimeWarning: overflow encountered in vecdot\n",
      "  r = xp.vecdot(xm / normxm, ym / normym, axis=axis)\n",
      "/Library/Frameworks/Python.framework/Versions/3.13/lib/python3.13/site-packages/scipy/stats/_stats_py.py:4776: RuntimeWarning: overflow encountered in vecdot\n",
      "  r = xp.vecdot(xm / normxm, ym / normym, axis=axis)\n",
      "/Library/Frameworks/Python.framework/Versions/3.13/lib/python3.13/site-packages/scipy/stats/_stats_py.py:4776: RuntimeWarning: overflow encountered in vecdot\n",
      "  r = xp.vecdot(xm / normxm, ym / normym, axis=axis)\n",
      "/var/folders/9g/z7mw9w913l31htrfzlb6lz6w0000gn/T/ipykernel_58848/869790641.py:32: ConstantInputWarning: An input array is constant; the correlation coefficient is not defined.\n",
      "/Library/Frameworks/Python.framework/Versions/3.13/lib/python3.13/site-packages/scipy/stats/_stats_py.py:4776: RuntimeWarning: overflow encountered in vecdot\n",
      "  r = xp.vecdot(xm / normxm, ym / normym, axis=axis)\n",
      "/Library/Frameworks/Python.framework/Versions/3.13/lib/python3.13/site-packages/scipy/stats/_stats_py.py:4776: RuntimeWarning: overflow encountered in vecdot\n",
      "  r = xp.vecdot(xm / normxm, ym / normym, axis=axis)\n",
      "/Library/Frameworks/Python.framework/Versions/3.13/lib/python3.13/site-packages/scipy/stats/_stats_py.py:4776: RuntimeWarning: overflow encountered in vecdot\n",
      "  r = xp.vecdot(xm / normxm, ym / normym, axis=axis)\n",
      "/Library/Frameworks/Python.framework/Versions/3.13/lib/python3.13/site-packages/scipy/stats/_stats_py.py:4776: RuntimeWarning: overflow encountered in vecdot\n",
      "  r = xp.vecdot(xm / normxm, ym / normym, axis=axis)\n",
      "/Library/Frameworks/Python.framework/Versions/3.13/lib/python3.13/site-packages/scipy/stats/_stats_py.py:4776: RuntimeWarning: overflow encountered in vecdot\n",
      "  r = xp.vecdot(xm / normxm, ym / normym, axis=axis)\n",
      "/Library/Frameworks/Python.framework/Versions/3.13/lib/python3.13/site-packages/scipy/stats/_stats_py.py:4776: RuntimeWarning: overflow encountered in vecdot\n",
      "  r = xp.vecdot(xm / normxm, ym / normym, axis=axis)\n",
      "/Library/Frameworks/Python.framework/Versions/3.13/lib/python3.13/site-packages/scipy/stats/_stats_py.py:4776: RuntimeWarning: overflow encountered in vecdot\n",
      "  r = xp.vecdot(xm / normxm, ym / normym, axis=axis)\n",
      "/Library/Frameworks/Python.framework/Versions/3.13/lib/python3.13/site-packages/scipy/stats/_stats_py.py:4776: RuntimeWarning: overflow encountered in vecdot\n",
      "  r = xp.vecdot(xm / normxm, ym / normym, axis=axis)\n",
      "/Library/Frameworks/Python.framework/Versions/3.13/lib/python3.13/site-packages/scipy/stats/_stats_py.py:4776: RuntimeWarning: overflow encountered in vecdot\n",
      "  r = xp.vecdot(xm / normxm, ym / normym, axis=axis)\n",
      "/Library/Frameworks/Python.framework/Versions/3.13/lib/python3.13/site-packages/scipy/stats/_stats_py.py:4776: RuntimeWarning: overflow encountered in vecdot\n",
      "  r = xp.vecdot(xm / normxm, ym / normym, axis=axis)\n",
      "/Library/Frameworks/Python.framework/Versions/3.13/lib/python3.13/site-packages/scipy/stats/_stats_py.py:4776: RuntimeWarning: overflow encountered in vecdot\n",
      "  r = xp.vecdot(xm / normxm, ym / normym, axis=axis)\n",
      "/Library/Frameworks/Python.framework/Versions/3.13/lib/python3.13/site-packages/scipy/stats/_stats_py.py:4776: RuntimeWarning: overflow encountered in vecdot\n",
      "  r = xp.vecdot(xm / normxm, ym / normym, axis=axis)\n",
      "/Library/Frameworks/Python.framework/Versions/3.13/lib/python3.13/site-packages/scipy/stats/_stats_py.py:4776: RuntimeWarning: overflow encountered in vecdot\n",
      "  r = xp.vecdot(xm / normxm, ym / normym, axis=axis)\n",
      "/Library/Frameworks/Python.framework/Versions/3.13/lib/python3.13/site-packages/scipy/stats/_stats_py.py:4776: RuntimeWarning: overflow encountered in vecdot\n",
      "  r = xp.vecdot(xm / normxm, ym / normym, axis=axis)\n",
      "/Library/Frameworks/Python.framework/Versions/3.13/lib/python3.13/site-packages/scipy/stats/_stats_py.py:4776: RuntimeWarning: overflow encountered in vecdot\n",
      "  r = xp.vecdot(xm / normxm, ym / normym, axis=axis)\n",
      "/Library/Frameworks/Python.framework/Versions/3.13/lib/python3.13/site-packages/scipy/stats/_stats_py.py:4776: RuntimeWarning: overflow encountered in vecdot\n",
      "  r = xp.vecdot(xm / normxm, ym / normym, axis=axis)\n",
      "/Library/Frameworks/Python.framework/Versions/3.13/lib/python3.13/site-packages/scipy/stats/_stats_py.py:4776: RuntimeWarning: overflow encountered in vecdot\n",
      "  r = xp.vecdot(xm / normxm, ym / normym, axis=axis)\n",
      "/Library/Frameworks/Python.framework/Versions/3.13/lib/python3.13/site-packages/scipy/stats/_stats_py.py:4776: RuntimeWarning: overflow encountered in vecdot\n",
      "  r = xp.vecdot(xm / normxm, ym / normym, axis=axis)\n",
      "/var/folders/9g/z7mw9w913l31htrfzlb6lz6w0000gn/T/ipykernel_58848/869790641.py:32: ConstantInputWarning: An input array is constant; the correlation coefficient is not defined.\n",
      "/Library/Frameworks/Python.framework/Versions/3.13/lib/python3.13/site-packages/scipy/stats/_stats_py.py:4776: RuntimeWarning: overflow encountered in vecdot\n",
      "  r = xp.vecdot(xm / normxm, ym / normym, axis=axis)\n",
      "/Library/Frameworks/Python.framework/Versions/3.13/lib/python3.13/site-packages/scipy/stats/_stats_py.py:4776: RuntimeWarning: overflow encountered in vecdot\n",
      "  r = xp.vecdot(xm / normxm, ym / normym, axis=axis)\n",
      "/Library/Frameworks/Python.framework/Versions/3.13/lib/python3.13/site-packages/scipy/stats/_stats_py.py:4776: RuntimeWarning: overflow encountered in vecdot\n",
      "  r = xp.vecdot(xm / normxm, ym / normym, axis=axis)\n",
      "/Library/Frameworks/Python.framework/Versions/3.13/lib/python3.13/site-packages/scipy/stats/_stats_py.py:4776: RuntimeWarning: overflow encountered in vecdot\n",
      "  r = xp.vecdot(xm / normxm, ym / normym, axis=axis)\n",
      "/Library/Frameworks/Python.framework/Versions/3.13/lib/python3.13/site-packages/scipy/stats/_stats_py.py:4776: RuntimeWarning: overflow encountered in vecdot\n",
      "  r = xp.vecdot(xm / normxm, ym / normym, axis=axis)\n",
      "/Library/Frameworks/Python.framework/Versions/3.13/lib/python3.13/site-packages/scipy/stats/_stats_py.py:4776: RuntimeWarning: overflow encountered in vecdot\n",
      "  r = xp.vecdot(xm / normxm, ym / normym, axis=axis)\n",
      "/Library/Frameworks/Python.framework/Versions/3.13/lib/python3.13/site-packages/scipy/stats/_stats_py.py:4776: RuntimeWarning: overflow encountered in vecdot\n",
      "  r = xp.vecdot(xm / normxm, ym / normym, axis=axis)\n",
      "/var/folders/9g/z7mw9w913l31htrfzlb6lz6w0000gn/T/ipykernel_58848/869790641.py:32: ConstantInputWarning: An input array is constant; the correlation coefficient is not defined.\n",
      "/Library/Frameworks/Python.framework/Versions/3.13/lib/python3.13/site-packages/scipy/stats/_stats_py.py:4776: RuntimeWarning: overflow encountered in vecdot\n",
      "  r = xp.vecdot(xm / normxm, ym / normym, axis=axis)\n",
      "/Library/Frameworks/Python.framework/Versions/3.13/lib/python3.13/site-packages/scipy/stats/_stats_py.py:4776: RuntimeWarning: overflow encountered in vecdot\n",
      "  r = xp.vecdot(xm / normxm, ym / normym, axis=axis)\n",
      "/Library/Frameworks/Python.framework/Versions/3.13/lib/python3.13/site-packages/scipy/stats/_stats_py.py:4776: RuntimeWarning: overflow encountered in vecdot\n",
      "  r = xp.vecdot(xm / normxm, ym / normym, axis=axis)\n",
      "/Library/Frameworks/Python.framework/Versions/3.13/lib/python3.13/site-packages/scipy/stats/_stats_py.py:4776: RuntimeWarning: overflow encountered in vecdot\n",
      "  r = xp.vecdot(xm / normxm, ym / normym, axis=axis)\n",
      "/Library/Frameworks/Python.framework/Versions/3.13/lib/python3.13/site-packages/scipy/stats/_stats_py.py:4776: RuntimeWarning: overflow encountered in vecdot\n",
      "  r = xp.vecdot(xm / normxm, ym / normym, axis=axis)\n",
      "/Library/Frameworks/Python.framework/Versions/3.13/lib/python3.13/site-packages/scipy/stats/_stats_py.py:4776: RuntimeWarning: overflow encountered in vecdot\n",
      "  r = xp.vecdot(xm / normxm, ym / normym, axis=axis)\n",
      "/Library/Frameworks/Python.framework/Versions/3.13/lib/python3.13/site-packages/scipy/stats/_stats_py.py:4776: RuntimeWarning: overflow encountered in vecdot\n",
      "  r = xp.vecdot(xm / normxm, ym / normym, axis=axis)\n",
      "/Library/Frameworks/Python.framework/Versions/3.13/lib/python3.13/site-packages/scipy/stats/_stats_py.py:4776: RuntimeWarning: overflow encountered in vecdot\n",
      "  r = xp.vecdot(xm / normxm, ym / normym, axis=axis)\n",
      "/Library/Frameworks/Python.framework/Versions/3.13/lib/python3.13/site-packages/scipy/stats/_stats_py.py:4776: RuntimeWarning: overflow encountered in vecdot\n",
      "  r = xp.vecdot(xm / normxm, ym / normym, axis=axis)\n",
      "/Library/Frameworks/Python.framework/Versions/3.13/lib/python3.13/site-packages/scipy/stats/_stats_py.py:4776: RuntimeWarning: overflow encountered in vecdot\n",
      "  r = xp.vecdot(xm / normxm, ym / normym, axis=axis)\n",
      "/var/folders/9g/z7mw9w913l31htrfzlb6lz6w0000gn/T/ipykernel_58848/869790641.py:32: ConstantInputWarning: An input array is constant; the correlation coefficient is not defined.\n",
      "/Library/Frameworks/Python.framework/Versions/3.13/lib/python3.13/site-packages/scipy/stats/_stats_py.py:4776: RuntimeWarning: overflow encountered in vecdot\n",
      "  r = xp.vecdot(xm / normxm, ym / normym, axis=axis)\n",
      "/Library/Frameworks/Python.framework/Versions/3.13/lib/python3.13/site-packages/scipy/stats/_stats_py.py:4776: RuntimeWarning: overflow encountered in vecdot\n",
      "  r = xp.vecdot(xm / normxm, ym / normym, axis=axis)\n",
      "/Library/Frameworks/Python.framework/Versions/3.13/lib/python3.13/site-packages/scipy/stats/_stats_py.py:4776: RuntimeWarning: overflow encountered in vecdot\n",
      "  r = xp.vecdot(xm / normxm, ym / normym, axis=axis)\n",
      "/Library/Frameworks/Python.framework/Versions/3.13/lib/python3.13/site-packages/scipy/stats/_stats_py.py:4776: RuntimeWarning: overflow encountered in vecdot\n",
      "  r = xp.vecdot(xm / normxm, ym / normym, axis=axis)\n",
      "/Library/Frameworks/Python.framework/Versions/3.13/lib/python3.13/site-packages/scipy/stats/_stats_py.py:4776: RuntimeWarning: overflow encountered in vecdot\n",
      "  r = xp.vecdot(xm / normxm, ym / normym, axis=axis)\n",
      "/Library/Frameworks/Python.framework/Versions/3.13/lib/python3.13/site-packages/scipy/stats/_stats_py.py:4776: RuntimeWarning: overflow encountered in vecdot\n",
      "  r = xp.vecdot(xm / normxm, ym / normym, axis=axis)\n",
      "/Library/Frameworks/Python.framework/Versions/3.13/lib/python3.13/site-packages/scipy/stats/_stats_py.py:4776: RuntimeWarning: overflow encountered in vecdot\n",
      "  r = xp.vecdot(xm / normxm, ym / normym, axis=axis)\n",
      "/Library/Frameworks/Python.framework/Versions/3.13/lib/python3.13/site-packages/scipy/stats/_stats_py.py:4776: RuntimeWarning: overflow encountered in vecdot\n",
      "  r = xp.vecdot(xm / normxm, ym / normym, axis=axis)\n",
      "/Library/Frameworks/Python.framework/Versions/3.13/lib/python3.13/site-packages/scipy/stats/_stats_py.py:4776: RuntimeWarning: overflow encountered in vecdot\n",
      "  r = xp.vecdot(xm / normxm, ym / normym, axis=axis)\n",
      "/Library/Frameworks/Python.framework/Versions/3.13/lib/python3.13/site-packages/scipy/stats/_stats_py.py:4776: RuntimeWarning: overflow encountered in vecdot\n",
      "  r = xp.vecdot(xm / normxm, ym / normym, axis=axis)\n",
      "/Library/Frameworks/Python.framework/Versions/3.13/lib/python3.13/site-packages/scipy/stats/_stats_py.py:4776: RuntimeWarning: overflow encountered in vecdot\n",
      "  r = xp.vecdot(xm / normxm, ym / normym, axis=axis)\n",
      "/Library/Frameworks/Python.framework/Versions/3.13/lib/python3.13/site-packages/scipy/stats/_stats_py.py:4776: RuntimeWarning: overflow encountered in vecdot\n",
      "  r = xp.vecdot(xm / normxm, ym / normym, axis=axis)\n",
      "/Library/Frameworks/Python.framework/Versions/3.13/lib/python3.13/site-packages/scipy/stats/_stats_py.py:4776: RuntimeWarning: overflow encountered in vecdot\n",
      "  r = xp.vecdot(xm / normxm, ym / normym, axis=axis)\n",
      "/Library/Frameworks/Python.framework/Versions/3.13/lib/python3.13/site-packages/scipy/stats/_stats_py.py:4776: RuntimeWarning: overflow encountered in vecdot\n",
      "  r = xp.vecdot(xm / normxm, ym / normym, axis=axis)\n",
      "/Library/Frameworks/Python.framework/Versions/3.13/lib/python3.13/site-packages/scipy/stats/_stats_py.py:4776: RuntimeWarning: overflow encountered in vecdot\n",
      "  r = xp.vecdot(xm / normxm, ym / normym, axis=axis)\n",
      "/Library/Frameworks/Python.framework/Versions/3.13/lib/python3.13/site-packages/scipy/stats/_stats_py.py:4776: RuntimeWarning: overflow encountered in vecdot\n",
      "  r = xp.vecdot(xm / normxm, ym / normym, axis=axis)\n",
      "/Library/Frameworks/Python.framework/Versions/3.13/lib/python3.13/site-packages/scipy/stats/_stats_py.py:4776: RuntimeWarning: overflow encountered in vecdot\n",
      "  r = xp.vecdot(xm / normxm, ym / normym, axis=axis)\n",
      "/Library/Frameworks/Python.framework/Versions/3.13/lib/python3.13/site-packages/scipy/stats/_stats_py.py:4776: RuntimeWarning: overflow encountered in vecdot\n",
      "  r = xp.vecdot(xm / normxm, ym / normym, axis=axis)\n",
      "/var/folders/9g/z7mw9w913l31htrfzlb6lz6w0000gn/T/ipykernel_58848/869790641.py:32: ConstantInputWarning: An input array is constant; the correlation coefficient is not defined.\n",
      "/Library/Frameworks/Python.framework/Versions/3.13/lib/python3.13/site-packages/scipy/stats/_stats_py.py:4776: RuntimeWarning: overflow encountered in vecdot\n",
      "  r = xp.vecdot(xm / normxm, ym / normym, axis=axis)\n",
      "/Library/Frameworks/Python.framework/Versions/3.13/lib/python3.13/site-packages/scipy/stats/_stats_py.py:4776: RuntimeWarning: overflow encountered in vecdot\n",
      "  r = xp.vecdot(xm / normxm, ym / normym, axis=axis)\n",
      "/Library/Frameworks/Python.framework/Versions/3.13/lib/python3.13/site-packages/scipy/stats/_stats_py.py:4776: RuntimeWarning: overflow encountered in vecdot\n",
      "  r = xp.vecdot(xm / normxm, ym / normym, axis=axis)\n",
      "/Library/Frameworks/Python.framework/Versions/3.13/lib/python3.13/site-packages/scipy/stats/_stats_py.py:4776: RuntimeWarning: overflow encountered in vecdot\n",
      "  r = xp.vecdot(xm / normxm, ym / normym, axis=axis)\n",
      "/Library/Frameworks/Python.framework/Versions/3.13/lib/python3.13/site-packages/scipy/stats/_stats_py.py:4776: RuntimeWarning: overflow encountered in vecdot\n",
      "  r = xp.vecdot(xm / normxm, ym / normym, axis=axis)\n",
      "/Library/Frameworks/Python.framework/Versions/3.13/lib/python3.13/site-packages/scipy/stats/_stats_py.py:4776: RuntimeWarning: overflow encountered in vecdot\n",
      "  r = xp.vecdot(xm / normxm, ym / normym, axis=axis)\n",
      "/Library/Frameworks/Python.framework/Versions/3.13/lib/python3.13/site-packages/scipy/stats/_stats_py.py:4776: RuntimeWarning: overflow encountered in vecdot\n",
      "  r = xp.vecdot(xm / normxm, ym / normym, axis=axis)\n",
      "/var/folders/9g/z7mw9w913l31htrfzlb6lz6w0000gn/T/ipykernel_58848/869790641.py:32: ConstantInputWarning: An input array is constant; the correlation coefficient is not defined.\n",
      "/Library/Frameworks/Python.framework/Versions/3.13/lib/python3.13/site-packages/scipy/stats/_stats_py.py:4776: RuntimeWarning: overflow encountered in vecdot\n",
      "  r = xp.vecdot(xm / normxm, ym / normym, axis=axis)\n",
      "/Library/Frameworks/Python.framework/Versions/3.13/lib/python3.13/site-packages/scipy/stats/_stats_py.py:4776: RuntimeWarning: overflow encountered in vecdot\n",
      "  r = xp.vecdot(xm / normxm, ym / normym, axis=axis)\n",
      "/Library/Frameworks/Python.framework/Versions/3.13/lib/python3.13/site-packages/scipy/stats/_stats_py.py:4776: RuntimeWarning: overflow encountered in vecdot\n",
      "  r = xp.vecdot(xm / normxm, ym / normym, axis=axis)\n",
      "/Library/Frameworks/Python.framework/Versions/3.13/lib/python3.13/site-packages/scipy/stats/_stats_py.py:4776: RuntimeWarning: overflow encountered in vecdot\n",
      "  r = xp.vecdot(xm / normxm, ym / normym, axis=axis)\n",
      "/Library/Frameworks/Python.framework/Versions/3.13/lib/python3.13/site-packages/scipy/stats/_stats_py.py:4776: RuntimeWarning: overflow encountered in vecdot\n",
      "  r = xp.vecdot(xm / normxm, ym / normym, axis=axis)\n",
      "/Library/Frameworks/Python.framework/Versions/3.13/lib/python3.13/site-packages/scipy/stats/_stats_py.py:4776: RuntimeWarning: overflow encountered in vecdot\n",
      "  r = xp.vecdot(xm / normxm, ym / normym, axis=axis)\n",
      "/Library/Frameworks/Python.framework/Versions/3.13/lib/python3.13/site-packages/scipy/stats/_stats_py.py:4776: RuntimeWarning: overflow encountered in vecdot\n",
      "  r = xp.vecdot(xm / normxm, ym / normym, axis=axis)\n",
      "/Library/Frameworks/Python.framework/Versions/3.13/lib/python3.13/site-packages/scipy/stats/_stats_py.py:4776: RuntimeWarning: overflow encountered in vecdot\n",
      "  r = xp.vecdot(xm / normxm, ym / normym, axis=axis)\n",
      "/Library/Frameworks/Python.framework/Versions/3.13/lib/python3.13/site-packages/scipy/stats/_stats_py.py:4776: RuntimeWarning: overflow encountered in vecdot\n",
      "  r = xp.vecdot(xm / normxm, ym / normym, axis=axis)\n",
      "/Library/Frameworks/Python.framework/Versions/3.13/lib/python3.13/site-packages/scipy/stats/_stats_py.py:4776: RuntimeWarning: overflow encountered in vecdot\n",
      "  r = xp.vecdot(xm / normxm, ym / normym, axis=axis)\n",
      "/Library/Frameworks/Python.framework/Versions/3.13/lib/python3.13/site-packages/scipy/stats/_stats_py.py:4776: RuntimeWarning: overflow encountered in vecdot\n",
      "  r = xp.vecdot(xm / normxm, ym / normym, axis=axis)\n",
      "/Library/Frameworks/Python.framework/Versions/3.13/lib/python3.13/site-packages/scipy/stats/_stats_py.py:4776: RuntimeWarning: overflow encountered in vecdot\n",
      "  r = xp.vecdot(xm / normxm, ym / normym, axis=axis)\n",
      "/Library/Frameworks/Python.framework/Versions/3.13/lib/python3.13/site-packages/scipy/stats/_stats_py.py:4776: RuntimeWarning: overflow encountered in vecdot\n",
      "  r = xp.vecdot(xm / normxm, ym / normym, axis=axis)\n",
      "/Library/Frameworks/Python.framework/Versions/3.13/lib/python3.13/site-packages/scipy/stats/_stats_py.py:4776: RuntimeWarning: overflow encountered in vecdot\n",
      "  r = xp.vecdot(xm / normxm, ym / normym, axis=axis)\n",
      "/Library/Frameworks/Python.framework/Versions/3.13/lib/python3.13/site-packages/scipy/stats/_stats_py.py:4776: RuntimeWarning: overflow encountered in vecdot\n",
      "  r = xp.vecdot(xm / normxm, ym / normym, axis=axis)\n",
      "/Library/Frameworks/Python.framework/Versions/3.13/lib/python3.13/site-packages/scipy/stats/_stats_py.py:4776: RuntimeWarning: overflow encountered in vecdot\n",
      "  r = xp.vecdot(xm / normxm, ym / normym, axis=axis)\n",
      "/Library/Frameworks/Python.framework/Versions/3.13/lib/python3.13/site-packages/scipy/stats/_stats_py.py:4776: RuntimeWarning: overflow encountered in vecdot\n",
      "  r = xp.vecdot(xm / normxm, ym / normym, axis=axis)\n",
      "/Library/Frameworks/Python.framework/Versions/3.13/lib/python3.13/site-packages/scipy/stats/_stats_py.py:4776: RuntimeWarning: overflow encountered in vecdot\n",
      "  r = xp.vecdot(xm / normxm, ym / normym, axis=axis)\n",
      "/Library/Frameworks/Python.framework/Versions/3.13/lib/python3.13/site-packages/scipy/stats/_stats_py.py:4776: RuntimeWarning: overflow encountered in vecdot\n",
      "  r = xp.vecdot(xm / normxm, ym / normym, axis=axis)\n",
      "/Library/Frameworks/Python.framework/Versions/3.13/lib/python3.13/site-packages/scipy/stats/_stats_py.py:4776: RuntimeWarning: overflow encountered in vecdot\n",
      "  r = xp.vecdot(xm / normxm, ym / normym, axis=axis)\n",
      "/Library/Frameworks/Python.framework/Versions/3.13/lib/python3.13/site-packages/scipy/stats/_stats_py.py:4776: RuntimeWarning: overflow encountered in vecdot\n",
      "  r = xp.vecdot(xm / normxm, ym / normym, axis=axis)\n",
      "/Library/Frameworks/Python.framework/Versions/3.13/lib/python3.13/site-packages/scipy/stats/_stats_py.py:4776: RuntimeWarning: overflow encountered in vecdot\n",
      "  r = xp.vecdot(xm / normxm, ym / normym, axis=axis)\n",
      "/Library/Frameworks/Python.framework/Versions/3.13/lib/python3.13/site-packages/scipy/stats/_stats_py.py:4776: RuntimeWarning: overflow encountered in vecdot\n",
      "  r = xp.vecdot(xm / normxm, ym / normym, axis=axis)\n",
      "/Library/Frameworks/Python.framework/Versions/3.13/lib/python3.13/site-packages/scipy/stats/_stats_py.py:4776: RuntimeWarning: overflow encountered in vecdot\n",
      "  r = xp.vecdot(xm / normxm, ym / normym, axis=axis)\n",
      "/Library/Frameworks/Python.framework/Versions/3.13/lib/python3.13/site-packages/scipy/stats/_stats_py.py:4776: RuntimeWarning: overflow encountered in vecdot\n",
      "  r = xp.vecdot(xm / normxm, ym / normym, axis=axis)\n",
      "/Library/Frameworks/Python.framework/Versions/3.13/lib/python3.13/site-packages/scipy/stats/_stats_py.py:4776: RuntimeWarning: overflow encountered in vecdot\n",
      "  r = xp.vecdot(xm / normxm, ym / normym, axis=axis)\n",
      "/Library/Frameworks/Python.framework/Versions/3.13/lib/python3.13/site-packages/scipy/stats/_stats_py.py:4776: RuntimeWarning: overflow encountered in vecdot\n",
      "  r = xp.vecdot(xm / normxm, ym / normym, axis=axis)\n",
      "/Library/Frameworks/Python.framework/Versions/3.13/lib/python3.13/site-packages/scipy/stats/_stats_py.py:4776: RuntimeWarning: overflow encountered in vecdot\n",
      "  r = xp.vecdot(xm / normxm, ym / normym, axis=axis)\n",
      "/Library/Frameworks/Python.framework/Versions/3.13/lib/python3.13/site-packages/scipy/stats/_stats_py.py:4776: RuntimeWarning: overflow encountered in vecdot\n",
      "  r = xp.vecdot(xm / normxm, ym / normym, axis=axis)\n",
      "/Library/Frameworks/Python.framework/Versions/3.13/lib/python3.13/site-packages/scipy/stats/_stats_py.py:4776: RuntimeWarning: overflow encountered in vecdot\n",
      "  r = xp.vecdot(xm / normxm, ym / normym, axis=axis)\n",
      "/Library/Frameworks/Python.framework/Versions/3.13/lib/python3.13/site-packages/scipy/stats/_stats_py.py:4776: RuntimeWarning: overflow encountered in vecdot\n",
      "  r = xp.vecdot(xm / normxm, ym / normym, axis=axis)\n",
      "/var/folders/9g/z7mw9w913l31htrfzlb6lz6w0000gn/T/ipykernel_58848/869790641.py:32: ConstantInputWarning: An input array is constant; the correlation coefficient is not defined.\n",
      "/Library/Frameworks/Python.framework/Versions/3.13/lib/python3.13/site-packages/scipy/stats/_stats_py.py:4776: RuntimeWarning: overflow encountered in vecdot\n",
      "  r = xp.vecdot(xm / normxm, ym / normym, axis=axis)\n",
      "/Library/Frameworks/Python.framework/Versions/3.13/lib/python3.13/site-packages/scipy/stats/_stats_py.py:4776: RuntimeWarning: overflow encountered in vecdot\n",
      "  r = xp.vecdot(xm / normxm, ym / normym, axis=axis)\n",
      "/Library/Frameworks/Python.framework/Versions/3.13/lib/python3.13/site-packages/scipy/stats/_stats_py.py:4776: RuntimeWarning: overflow encountered in vecdot\n",
      "  r = xp.vecdot(xm / normxm, ym / normym, axis=axis)\n",
      "/Library/Frameworks/Python.framework/Versions/3.13/lib/python3.13/site-packages/scipy/stats/_stats_py.py:4776: RuntimeWarning: overflow encountered in vecdot\n",
      "  r = xp.vecdot(xm / normxm, ym / normym, axis=axis)\n",
      "/Library/Frameworks/Python.framework/Versions/3.13/lib/python3.13/site-packages/scipy/stats/_stats_py.py:4776: RuntimeWarning: overflow encountered in vecdot\n",
      "  r = xp.vecdot(xm / normxm, ym / normym, axis=axis)\n",
      "/Library/Frameworks/Python.framework/Versions/3.13/lib/python3.13/site-packages/scipy/stats/_stats_py.py:4776: RuntimeWarning: overflow encountered in vecdot\n",
      "  r = xp.vecdot(xm / normxm, ym / normym, axis=axis)\n",
      "/Library/Frameworks/Python.framework/Versions/3.13/lib/python3.13/site-packages/scipy/stats/_stats_py.py:4776: RuntimeWarning: overflow encountered in vecdot\n",
      "  r = xp.vecdot(xm / normxm, ym / normym, axis=axis)\n",
      "/Library/Frameworks/Python.framework/Versions/3.13/lib/python3.13/site-packages/scipy/stats/_stats_py.py:4776: RuntimeWarning: overflow encountered in vecdot\n",
      "  r = xp.vecdot(xm / normxm, ym / normym, axis=axis)\n",
      "/Library/Frameworks/Python.framework/Versions/3.13/lib/python3.13/site-packages/scipy/stats/_stats_py.py:4776: RuntimeWarning: overflow encountered in vecdot\n",
      "  r = xp.vecdot(xm / normxm, ym / normym, axis=axis)\n",
      "/Library/Frameworks/Python.framework/Versions/3.13/lib/python3.13/site-packages/scipy/stats/_stats_py.py:4776: RuntimeWarning: overflow encountered in vecdot\n",
      "  r = xp.vecdot(xm / normxm, ym / normym, axis=axis)\n",
      "/Library/Frameworks/Python.framework/Versions/3.13/lib/python3.13/site-packages/scipy/stats/_stats_py.py:4776: RuntimeWarning: overflow encountered in vecdot\n",
      "  r = xp.vecdot(xm / normxm, ym / normym, axis=axis)\n",
      "/Library/Frameworks/Python.framework/Versions/3.13/lib/python3.13/site-packages/scipy/stats/_stats_py.py:4776: RuntimeWarning: overflow encountered in vecdot\n",
      "  r = xp.vecdot(xm / normxm, ym / normym, axis=axis)\n",
      "/Library/Frameworks/Python.framework/Versions/3.13/lib/python3.13/site-packages/scipy/stats/_stats_py.py:4776: RuntimeWarning: overflow encountered in vecdot\n",
      "  r = xp.vecdot(xm / normxm, ym / normym, axis=axis)\n",
      "/var/folders/9g/z7mw9w913l31htrfzlb6lz6w0000gn/T/ipykernel_58848/869790641.py:32: ConstantInputWarning: An input array is constant; the correlation coefficient is not defined.\n",
      "/Library/Frameworks/Python.framework/Versions/3.13/lib/python3.13/site-packages/scipy/stats/_stats_py.py:4776: RuntimeWarning: overflow encountered in vecdot\n",
      "  r = xp.vecdot(xm / normxm, ym / normym, axis=axis)\n",
      "/Library/Frameworks/Python.framework/Versions/3.13/lib/python3.13/site-packages/scipy/stats/_stats_py.py:4776: RuntimeWarning: overflow encountered in vecdot\n",
      "  r = xp.vecdot(xm / normxm, ym / normym, axis=axis)\n",
      "/Library/Frameworks/Python.framework/Versions/3.13/lib/python3.13/site-packages/scipy/stats/_stats_py.py:4776: RuntimeWarning: overflow encountered in vecdot\n",
      "  r = xp.vecdot(xm / normxm, ym / normym, axis=axis)\n",
      "/Library/Frameworks/Python.framework/Versions/3.13/lib/python3.13/site-packages/scipy/stats/_stats_py.py:4776: RuntimeWarning: overflow encountered in vecdot\n",
      "  r = xp.vecdot(xm / normxm, ym / normym, axis=axis)\n",
      "/Library/Frameworks/Python.framework/Versions/3.13/lib/python3.13/site-packages/scipy/stats/_stats_py.py:4776: RuntimeWarning: overflow encountered in vecdot\n",
      "  r = xp.vecdot(xm / normxm, ym / normym, axis=axis)\n",
      "/Library/Frameworks/Python.framework/Versions/3.13/lib/python3.13/site-packages/scipy/stats/_stats_py.py:4776: RuntimeWarning: overflow encountered in vecdot\n",
      "  r = xp.vecdot(xm / normxm, ym / normym, axis=axis)\n",
      "/Library/Frameworks/Python.framework/Versions/3.13/lib/python3.13/site-packages/scipy/stats/_stats_py.py:4776: RuntimeWarning: overflow encountered in vecdot\n",
      "  r = xp.vecdot(xm / normxm, ym / normym, axis=axis)\n",
      "/var/folders/9g/z7mw9w913l31htrfzlb6lz6w0000gn/T/ipykernel_58848/869790641.py:32: ConstantInputWarning: An input array is constant; the correlation coefficient is not defined.\n",
      "/Library/Frameworks/Python.framework/Versions/3.13/lib/python3.13/site-packages/scipy/stats/_stats_py.py:4776: RuntimeWarning: overflow encountered in vecdot\n",
      "  r = xp.vecdot(xm / normxm, ym / normym, axis=axis)\n",
      "/Library/Frameworks/Python.framework/Versions/3.13/lib/python3.13/site-packages/scipy/stats/_stats_py.py:4776: RuntimeWarning: overflow encountered in vecdot\n",
      "  r = xp.vecdot(xm / normxm, ym / normym, axis=axis)\n",
      "/Library/Frameworks/Python.framework/Versions/3.13/lib/python3.13/site-packages/scipy/stats/_stats_py.py:4776: RuntimeWarning: overflow encountered in vecdot\n",
      "  r = xp.vecdot(xm / normxm, ym / normym, axis=axis)\n",
      "/Library/Frameworks/Python.framework/Versions/3.13/lib/python3.13/site-packages/scipy/stats/_stats_py.py:4776: RuntimeWarning: overflow encountered in vecdot\n",
      "  r = xp.vecdot(xm / normxm, ym / normym, axis=axis)\n",
      "/Library/Frameworks/Python.framework/Versions/3.13/lib/python3.13/site-packages/scipy/stats/_stats_py.py:4776: RuntimeWarning: overflow encountered in vecdot\n",
      "  r = xp.vecdot(xm / normxm, ym / normym, axis=axis)\n",
      "/Library/Frameworks/Python.framework/Versions/3.13/lib/python3.13/site-packages/scipy/stats/_stats_py.py:4776: RuntimeWarning: overflow encountered in vecdot\n",
      "  r = xp.vecdot(xm / normxm, ym / normym, axis=axis)\n",
      "/Library/Frameworks/Python.framework/Versions/3.13/lib/python3.13/site-packages/scipy/stats/_stats_py.py:4776: RuntimeWarning: overflow encountered in vecdot\n",
      "  r = xp.vecdot(xm / normxm, ym / normym, axis=axis)\n",
      "/Library/Frameworks/Python.framework/Versions/3.13/lib/python3.13/site-packages/scipy/stats/_stats_py.py:4776: RuntimeWarning: overflow encountered in vecdot\n",
      "  r = xp.vecdot(xm / normxm, ym / normym, axis=axis)\n",
      "/Library/Frameworks/Python.framework/Versions/3.13/lib/python3.13/site-packages/scipy/stats/_stats_py.py:4776: RuntimeWarning: overflow encountered in vecdot\n",
      "  r = xp.vecdot(xm / normxm, ym / normym, axis=axis)\n",
      "/Library/Frameworks/Python.framework/Versions/3.13/lib/python3.13/site-packages/scipy/stats/_stats_py.py:4776: RuntimeWarning: overflow encountered in vecdot\n",
      "  r = xp.vecdot(xm / normxm, ym / normym, axis=axis)\n",
      "/var/folders/9g/z7mw9w913l31htrfzlb6lz6w0000gn/T/ipykernel_58848/869790641.py:32: ConstantInputWarning: An input array is constant; the correlation coefficient is not defined.\n",
      "/Library/Frameworks/Python.framework/Versions/3.13/lib/python3.13/site-packages/scipy/stats/_stats_py.py:4776: RuntimeWarning: overflow encountered in vecdot\n",
      "  r = xp.vecdot(xm / normxm, ym / normym, axis=axis)\n",
      "/Library/Frameworks/Python.framework/Versions/3.13/lib/python3.13/site-packages/scipy/stats/_stats_py.py:4776: RuntimeWarning: overflow encountered in vecdot\n",
      "  r = xp.vecdot(xm / normxm, ym / normym, axis=axis)\n",
      "/Library/Frameworks/Python.framework/Versions/3.13/lib/python3.13/site-packages/scipy/stats/_stats_py.py:4776: RuntimeWarning: overflow encountered in vecdot\n",
      "  r = xp.vecdot(xm / normxm, ym / normym, axis=axis)\n",
      "/var/folders/9g/z7mw9w913l31htrfzlb6lz6w0000gn/T/ipykernel_58848/869790641.py:32: ConstantInputWarning: An input array is constant; the correlation coefficient is not defined.\n",
      "/Library/Frameworks/Python.framework/Versions/3.13/lib/python3.13/site-packages/scipy/stats/_stats_py.py:4776: RuntimeWarning: overflow encountered in vecdot\n",
      "  r = xp.vecdot(xm / normxm, ym / normym, axis=axis)\n",
      "/Library/Frameworks/Python.framework/Versions/3.13/lib/python3.13/site-packages/scipy/stats/_stats_py.py:4776: RuntimeWarning: overflow encountered in vecdot\n",
      "  r = xp.vecdot(xm / normxm, ym / normym, axis=axis)\n",
      "/Library/Frameworks/Python.framework/Versions/3.13/lib/python3.13/site-packages/scipy/stats/_stats_py.py:4776: RuntimeWarning: overflow encountered in vecdot\n",
      "  r = xp.vecdot(xm / normxm, ym / normym, axis=axis)\n",
      "/Library/Frameworks/Python.framework/Versions/3.13/lib/python3.13/site-packages/scipy/stats/_stats_py.py:4776: RuntimeWarning: overflow encountered in vecdot\n",
      "  r = xp.vecdot(xm / normxm, ym / normym, axis=axis)\n",
      "/Library/Frameworks/Python.framework/Versions/3.13/lib/python3.13/site-packages/scipy/stats/_stats_py.py:4776: RuntimeWarning: overflow encountered in vecdot\n",
      "  r = xp.vecdot(xm / normxm, ym / normym, axis=axis)\n",
      "/Library/Frameworks/Python.framework/Versions/3.13/lib/python3.13/site-packages/scipy/stats/_stats_py.py:4776: RuntimeWarning: overflow encountered in vecdot\n",
      "  r = xp.vecdot(xm / normxm, ym / normym, axis=axis)\n",
      "/var/folders/9g/z7mw9w913l31htrfzlb6lz6w0000gn/T/ipykernel_58848/869790641.py:32: ConstantInputWarning: An input array is constant; the correlation coefficient is not defined.\n",
      "/Library/Frameworks/Python.framework/Versions/3.13/lib/python3.13/site-packages/scipy/stats/_stats_py.py:4776: RuntimeWarning: overflow encountered in vecdot\n",
      "  r = xp.vecdot(xm / normxm, ym / normym, axis=axis)\n",
      "/Library/Frameworks/Python.framework/Versions/3.13/lib/python3.13/site-packages/scipy/stats/_stats_py.py:4776: RuntimeWarning: overflow encountered in vecdot\n",
      "  r = xp.vecdot(xm / normxm, ym / normym, axis=axis)\n",
      "/Library/Frameworks/Python.framework/Versions/3.13/lib/python3.13/site-packages/scipy/stats/_stats_py.py:4776: RuntimeWarning: overflow encountered in vecdot\n",
      "  r = xp.vecdot(xm / normxm, ym / normym, axis=axis)\n",
      "/Library/Frameworks/Python.framework/Versions/3.13/lib/python3.13/site-packages/scipy/stats/_stats_py.py:4776: RuntimeWarning: overflow encountered in vecdot\n",
      "  r = xp.vecdot(xm / normxm, ym / normym, axis=axis)\n",
      "/Library/Frameworks/Python.framework/Versions/3.13/lib/python3.13/site-packages/scipy/stats/_stats_py.py:4776: RuntimeWarning: overflow encountered in vecdot\n",
      "  r = xp.vecdot(xm / normxm, ym / normym, axis=axis)\n",
      "/Library/Frameworks/Python.framework/Versions/3.13/lib/python3.13/site-packages/scipy/stats/_stats_py.py:4776: RuntimeWarning: overflow encountered in vecdot\n",
      "  r = xp.vecdot(xm / normxm, ym / normym, axis=axis)\n",
      "/Library/Frameworks/Python.framework/Versions/3.13/lib/python3.13/site-packages/scipy/stats/_stats_py.py:4776: RuntimeWarning: overflow encountered in vecdot\n",
      "  r = xp.vecdot(xm / normxm, ym / normym, axis=axis)\n",
      "/Library/Frameworks/Python.framework/Versions/3.13/lib/python3.13/site-packages/scipy/stats/_stats_py.py:4776: RuntimeWarning: overflow encountered in vecdot\n",
      "  r = xp.vecdot(xm / normxm, ym / normym, axis=axis)\n",
      "/Library/Frameworks/Python.framework/Versions/3.13/lib/python3.13/site-packages/scipy/stats/_stats_py.py:4776: RuntimeWarning: overflow encountered in vecdot\n",
      "  r = xp.vecdot(xm / normxm, ym / normym, axis=axis)\n",
      "/Library/Frameworks/Python.framework/Versions/3.13/lib/python3.13/site-packages/scipy/stats/_stats_py.py:4776: RuntimeWarning: overflow encountered in vecdot\n",
      "  r = xp.vecdot(xm / normxm, ym / normym, axis=axis)\n",
      "/Library/Frameworks/Python.framework/Versions/3.13/lib/python3.13/site-packages/scipy/stats/_stats_py.py:4776: RuntimeWarning: overflow encountered in vecdot\n",
      "  r = xp.vecdot(xm / normxm, ym / normym, axis=axis)\n",
      "/Library/Frameworks/Python.framework/Versions/3.13/lib/python3.13/site-packages/scipy/stats/_stats_py.py:4776: RuntimeWarning: overflow encountered in vecdot\n",
      "  r = xp.vecdot(xm / normxm, ym / normym, axis=axis)\n",
      "/Library/Frameworks/Python.framework/Versions/3.13/lib/python3.13/site-packages/scipy/stats/_stats_py.py:4776: RuntimeWarning: overflow encountered in vecdot\n",
      "  r = xp.vecdot(xm / normxm, ym / normym, axis=axis)\n",
      "/Library/Frameworks/Python.framework/Versions/3.13/lib/python3.13/site-packages/scipy/stats/_stats_py.py:4776: RuntimeWarning: overflow encountered in vecdot\n",
      "  r = xp.vecdot(xm / normxm, ym / normym, axis=axis)\n",
      "/Library/Frameworks/Python.framework/Versions/3.13/lib/python3.13/site-packages/scipy/stats/_stats_py.py:4776: RuntimeWarning: overflow encountered in vecdot\n",
      "  r = xp.vecdot(xm / normxm, ym / normym, axis=axis)\n",
      "/Library/Frameworks/Python.framework/Versions/3.13/lib/python3.13/site-packages/scipy/stats/_stats_py.py:4776: RuntimeWarning: overflow encountered in vecdot\n",
      "  r = xp.vecdot(xm / normxm, ym / normym, axis=axis)\n",
      "/Library/Frameworks/Python.framework/Versions/3.13/lib/python3.13/site-packages/scipy/stats/_stats_py.py:4776: RuntimeWarning: overflow encountered in vecdot\n",
      "  r = xp.vecdot(xm / normxm, ym / normym, axis=axis)\n",
      "/Library/Frameworks/Python.framework/Versions/3.13/lib/python3.13/site-packages/sklearn/model_selection/_search.py:1135: UserWarning: One or more of the test scores are non-finite: [       nan        nan 0.43231785        nan        nan 0.44477406\n",
      "        nan 0.41908134 0.43779568 0.42743682        nan        nan\n",
      "        nan        nan        nan        nan 0.42931572        nan\n",
      "        nan 0.44218618 0.40767889 0.41958845        nan 0.47778201\n",
      " 0.41996648        nan 0.42388118        nan 0.42434215        nan\n",
      " 0.44607295 0.44197867        nan 0.46518688        nan 0.41006617\n",
      " 0.43322817 0.41609358 0.41615954 0.40894584        nan 0.42759518\n",
      " 0.41777917        nan        nan 0.41008139        nan        nan\n",
      "        nan 0.41435993]\n",
      "  warnings.warn(\n"
     ]
    },
    {
     "name": "stdout",
     "output_type": "stream",
     "text": [
      "Best hyperparameters: {'colsample_bytree': np.float64(0.9990961940195767), 'learning_rate': np.float64(0.063356202855057), 'max_depth': 3, 'min_child_weight': 2, 'n_estimators': 419, 'reg_alpha': np.float64(0.05147875124998935), 'subsample': np.float64(0.7114585856946446)}\n",
      "Best CV Pearson: 0.4777820088928391\n",
      "Test Pearson: 0.6204064746904282\n"
     ]
    },
    {
     "name": "stderr",
     "output_type": "stream",
     "text": [
      "/Library/Frameworks/Python.framework/Versions/3.13/lib/python3.13/site-packages/scipy/stats/_stats_py.py:4776: RuntimeWarning: overflow encountered in vecdot\n",
      "  r = xp.vecdot(xm / normxm, ym / normym, axis=axis)\n"
     ]
    }
   ],
   "source": [
    "import numpy as np\n",
    "import pandas as pd\n",
    "from sklearn.model_selection import train_test_split, TimeSeriesSplit, RandomizedSearchCV\n",
    "from sklearn.preprocessing import StandardScaler\n",
    "from sklearn.metrics import make_scorer\n",
    "from xgboost import XGBRegressor\n",
    "from scipy.stats import randint, uniform, pearsonr\n",
    "\n",
    "# --------------------------\n",
    "# Example: load your data\n",
    "# X = ...\n",
    "# y = ...\n",
    "# --------------------------\n",
    "\n",
    "# --- Chronological train-test split (e.g., 80% / 20%) ---\n",
    "\n",
    "X = data.drop(columns=['timestamp_ETH', 'label_ETH', 'time_diff'])\n",
    "y = data['label_ETH']\n",
    "split_ratio = 0.8\n",
    "split_index = int(len(X) * split_ratio)\n",
    "\n",
    "X_train_full, X_test = X.iloc[:split_index], X.iloc[split_index:]\n",
    "y_train_full, y_test = y.iloc[:split_index], y.iloc[split_index:]\n",
    "\n",
    "# --- Scale features ---\n",
    "scaler = StandardScaler()\n",
    "X_train_scaled = scaler.fit_transform(X_train_full)\n",
    "X_test_scaled = scaler.transform(X_test)\n",
    "\n",
    "# --- Pearson correlation scorer ---\n",
    "def pearson_corr(y_true, y_pred):\n",
    "    return pearsonr(y_true, y_pred)[0]\n",
    "\n",
    "pearson_scorer = make_scorer(pearson_corr, greater_is_better=True)\n",
    "\n",
    "# --- Base model ---\n",
    "xgb = XGBRegressor(\n",
    "    objective=\"reg:squarederror\",\n",
    "    tree_method=\"hist\",\n",
    "    n_jobs=-1,\n",
    "    random_state=42\n",
    ")\n",
    "\n",
    "# --- Hyperparameter search space ---\n",
    "param_dist = {\n",
    "    \"n_estimators\": randint(200, 1000),\n",
    "    \"max_depth\": randint(2, 10),\n",
    "    \"learning_rate\": uniform(0.01, 0.2),\n",
    "    \"subsample\": uniform(0.6, 0.4),\n",
    "    \"colsample_bytree\": uniform(0.6, 0.4),\n",
    "    \"min_child_weight\": randint(1, 10),\n",
    "    \"reg_alpha\": uniform(0, 1),\n",
    "}\n",
    "\n",
    "# --- Cross-validation setup: chronological folds ---\n",
    "cv = TimeSeriesSplit(n_splits=5)\n",
    "\n",
    "# --- Randomized hyperparameter search with CV ---\n",
    "search = RandomizedSearchCV(\n",
    "    estimator=xgb,\n",
    "    param_distributions=param_dist,\n",
    "    n_iter=50,\n",
    "    scoring=pearson_scorer,\n",
    "    cv=cv,\n",
    "    verbose=1,\n",
    "    random_state=42,\n",
    "    n_jobs=-1\n",
    ")\n",
    "\n",
    "# --- Hyperparameter tuning ---\n",
    "search.fit(X_train_scaled, y_train_full)\n",
    "\n",
    "print(\"Best hyperparameters:\", search.best_params_)\n",
    "print(\"Best CV Pearson:\", search.best_score_)\n",
    "\n",
    "# --- Final evaluation on held-out test set ---\n",
    "best_model_more_features = search.best_estimator_\n",
    "best_model_more_features.fit(X_train_scaled, y_train_full)\n",
    "y_pred = best_model_more_features.predict(X_test_scaled)\n",
    "test_corr = pearson_corr(y_test, y_pred)\n",
    "\n",
    "print(\"Test Pearson:\", test_corr)\n"
   ]
  },
  {
   "cell_type": "code",
   "execution_count": 70,
   "id": "9d65557c",
   "metadata": {},
   "outputs": [],
   "source": [
    "y_predictions = best_model_more_features.predict(testingp.drop(columns=[\"timestamp_ETH\",\"timestamp_BTC\"]))"
   ]
  },
  {
   "cell_type": "code",
   "execution_count": 71,
   "id": "106623d1",
   "metadata": {},
   "outputs": [
    {
     "name": "stdout",
     "output_type": "stream",
     "text": [
      "Predictions saved to 'y_val_pred_predictions_4.csv'\n"
     ]
    }
   ],
   "source": [
    "result_df = pd.DataFrame({\n",
    "    'timestamp': range(1,len(y_predictions)+1),\n",
    "    'labels': y_predictions\n",
    "})\n",
    "\n",
    "# Save to CSV\n",
    "result_df.to_csv('y_val_pred_predictions_4.csv', index=False)\n",
    "print(\"Predictions saved to 'y_val_pred_predictions_4.csv'\")"
   ]
  },
  {
   "cell_type": "code",
   "execution_count": 74,
   "id": "eec20a29",
   "metadata": {},
   "outputs": [
    {
     "data": {
      "image/png": "[encoded data removed]",
      "text/plain": [
       "<Figure size 1200x600 with 1 Axes>"
      ]
     },
     "metadata": {},
     "output_type": "display_data"
    }
   ],
   "source": [
    "import pandas as pd\n",
    "\n",
    "import matplotlib.pyplot as plt\n",
    "\n",
    "# Load predictions\n",
    "df_pred2 = pd.read_csv('y_val_pred_predictions_2.csv')\n",
    "df_pred4 = pd.read_csv('y_val_pred_predictions_4.csv')\n",
    "\n",
    "plt.figure(figsize=(12, 6))\n",
    "plt.plot(df_pred2['timestamp'], df_pred2['labels'], label='y_val_pred_predictions_2', alpha=0.7)\n",
    "plt.plot(df_pred4['timestamp'], df_pred4['labels']*100-.005, label='y_val_pred_predictions_4', alpha=0.7)\n",
    "plt.xlabel('Timestamp')\n",
    "plt.ylabel('Predicted Label')\n",
    "plt.title('Comparison of Predictions')\n",
    "plt.legend()\n",
    "plt.tight_layout()\n",
    "plt.show()"
   ]
  },
  {
   "cell_type": "code",
   "execution_count": null,
   "id": "93a76249",
   "metadata": {},
   "outputs": [],
   "source": [
    "df_pred3 = pd.read_csv('y_val_pred_predictions_3.csv')\n",
    "\n",
    "plt.figure(figsize=(12, 6))\n",
    "plt.plot(df_pred2['timestamp'], df_pred2['labels'], label='y_val_pred_predictions_2', alpha=0.7)\n",
    "plt.plot(df_pred3['timestamp'], df_pred3['labels'], label='y_val_pred_predictions_3', alpha=0.7)\n",
    "plt.xlabel('Timestamp')\n",
    "plt.ylabel('Predicted Label')\n",
    "plt.title('Comparison of Predictions')\n",
    "plt.legend()\n",
    "plt.tight_layout()\n",
    "plt.show()"
   ]
  }
 ],
 "metadata": {
  "kernelspec": {
   "display_name": "Python 3",
   "language": "python",
   "name": "python3"
  },
  "language_info": {
   "codemirror_mode": {
    "name": "ipython",
    "version": 3
   },
   "file_extension": ".py",
   "mimetype": "text/x-python",
   "name": "python",
   "nbconvert_exporter": "python",
   "pygments_lexer": "ipython3",
   "version": "3.13.5"
  }
 },
 "nbformat": 4,
 "nbformat_minor": 5
}
